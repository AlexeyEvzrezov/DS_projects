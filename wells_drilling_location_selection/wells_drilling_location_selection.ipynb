{
  "nbformat": 4,
  "nbformat_minor": 0,
  "metadata": {
    "colab": {
      "name": "wells_drilling_location_selection.ipynb",
      "provenance": [],
      "collapsed_sections": [],
      "mount_file_id": "1XiETq-y8_gSTXlDF1Q3FUB3WPa3WjkFu",
      "authorship_tag": "ABX9TyNyGlPQqS1uHXalAii0iiWF"
    },
    "kernelspec": {
      "name": "python3",
      "display_name": "Python 3"
    }
  },
  "cells": [
    {
      "cell_type": "markdown",
      "metadata": {
        "id": "pQC0DnpqbEBH",
        "colab_type": "text"
      },
      "source": [
        "# Решение задачи выбора локации новой скважины для добывающей компании"
      ]
    },
    {
      "cell_type": "markdown",
      "metadata": {
        "id": "5fGpjD1CbEBI",
        "colab_type": "text"
      },
      "source": [
        "Нам предоставлены пробы нефти в трёх регионах. Характеристики для каждой скважины в регионе уже известны. \n",
        "\n",
        "Построим модель для определения региона, где добыча принесёт наибольшую прибыль. \n",
        "\n",
        "Проанализируем возможную прибыль и риски техникой Bootstrap.\n",
        "\n",
        "## Содержание\n",
        "- [Описание данных](#0)\n",
        "1. [Загрузка и анализ данных](#1)    \n",
        "2. [Построение моделей для регионов добычи](#2)    \n",
        "3. [Расчет прибыли и оценка рисков возникновения убытков](#3)\n",
        "- [Выводы](#6)"
      ]
    },
    {
      "cell_type": "markdown",
      "metadata": {
        "id": "seOToZlHbEBI",
        "colab_type": "text"
      },
      "source": [
        "<a id=\"0\"></a> \n",
        "## Описание данных\n",
        "Данные геологоразведки трёх регионов находятся в файлах:\n",
        "- geo_data_0.csv\n",
        "- geo_data_1.csv\n",
        "- geo_data_2.csv\n",
        "\n",
        "где\n",
        "- id — уникальный идентификатор скважины;\n",
        "- f0, f1, f2 — три признака точек;\n",
        "- product — объём запасов в скважине (тыс. баррелей).\n",
        "\n",
        "Условия:\n",
        "- Для обучения модели подходит только линейная регрессия (остальные — недостаточно предсказуемые).\n",
        "- При разведке региона исследуют 500 точек, из которых выбирают 200 лучших для расчёта прибыли.\n",
        "- Бюджет на разработку скважин в регионе — 10 млрд рублей.\n",
        "- Один баррель сырья приносит 450 рублей дохода. Доход с каждой единицы продукта составляет 450 тыс. рублей, поскольку объём указан в тысячах баррелей.\n",
        "- После оценки рисков нужно оставить лишь те регионы, в которых вероятность убытков меньше 2.5%. Среди них выбирают регион с наибольшей средней прибылью."
      ]
    },
    {
      "cell_type": "markdown",
      "metadata": {
        "id": "pwvWH0gCbEBJ",
        "colab_type": "text"
      },
      "source": [
        "<a id=\"1\"></a> \n",
        "## Загрузка и анализ данных"
      ]
    },
    {
      "cell_type": "code",
      "metadata": {
        "id": "ldoUMhu0bEBK",
        "colab_type": "code",
        "colab": {}
      },
      "source": [
        "# импорт библиотек\n",
        "import pandas as pd\n",
        "import numpy as np\n",
        "\n",
        "import plotly.graph_objects as go\n",
        "from plotly.subplots import make_subplots\n",
        "\n",
        "from sklearn.model_selection import train_test_split\n",
        "from sklearn.linear_model import LinearRegression\n",
        "from sklearn.metrics import mean_squared_error\n",
        "\n",
        "import scipy.stats as st\n",
        "\n",
        "import warnings\n",
        "warnings.filterwarnings('ignore')\n",
        "\n",
        "pd.options.display.float_format = '{:,.3f}'.format"
      ],
      "execution_count": null,
      "outputs": []
    },
    {
      "cell_type": "code",
      "metadata": {
        "id": "6FI52ZsobEBP",
        "colab_type": "code",
        "colab": {}
      },
      "source": [
        "# загрузим данные\n",
        "r0, r1, r2 = [pd.read_csv(\n",
        "    f'/content/drive/My Drive/Datasets/geo_data_{i}.csv') for i in range(3)]"
      ],
      "execution_count": null,
      "outputs": []
    },
    {
      "cell_type": "code",
      "metadata": {
        "id": "Kh7Q8HT-pCP6",
        "colab_type": "code",
        "colab": {
          "base_uri": "https://localhost:8080/",
          "height": 827
        },
        "outputId": "95e183a7-8f7b-4b84-94d3-205cbbd6df36"
      },
      "source": [
        "# посмотрим на данные, для удобства выведем информацию по каждому региону горизонтально подряд\n",
        "rs = [r0, r1, r2]\n",
        "_0, _1, _2, _3 = [], [], [], []\n",
        "\n",
        "for r in rs:\n",
        "    r_info = pd.concat([r.dtypes, r.isna().count(), r.isna().sum()],\n",
        "                       axis=1, keys=['dtypes', 'count', 'na_count']).reset_index()\n",
        "\n",
        "    _0.append(r_info)\n",
        "    _1.append(r.head())\n",
        "    _2.append(r.describe())\n",
        "    _3.append(r.corr())\n",
        "\n",
        "for r in _0, _1, _2, _3:\n",
        "    display(pd.concat(r, axis=1))"
      ],
      "execution_count": null,
      "outputs": [
        {
          "output_type": "display_data",
          "data": {
            "text/html": [
              "<div>\n",
              "<style scoped>\n",
              "    .dataframe tbody tr th:only-of-type {\n",
              "        vertical-align: middle;\n",
              "    }\n",
              "\n",
              "    .dataframe tbody tr th {\n",
              "        vertical-align: top;\n",
              "    }\n",
              "\n",
              "    .dataframe thead th {\n",
              "        text-align: right;\n",
              "    }\n",
              "</style>\n",
              "<table border=\"1\" class=\"dataframe\">\n",
              "  <thead>\n",
              "    <tr style=\"text-align: right;\">\n",
              "      <th></th>\n",
              "      <th>index</th>\n",
              "      <th>dtypes</th>\n",
              "      <th>count</th>\n",
              "      <th>na_count</th>\n",
              "      <th>index</th>\n",
              "      <th>dtypes</th>\n",
              "      <th>count</th>\n",
              "      <th>na_count</th>\n",
              "      <th>index</th>\n",
              "      <th>dtypes</th>\n",
              "      <th>count</th>\n",
              "      <th>na_count</th>\n",
              "    </tr>\n",
              "  </thead>\n",
              "  <tbody>\n",
              "    <tr>\n",
              "      <th>0</th>\n",
              "      <td>id</td>\n",
              "      <td>object</td>\n",
              "      <td>100000</td>\n",
              "      <td>0</td>\n",
              "      <td>id</td>\n",
              "      <td>object</td>\n",
              "      <td>100000</td>\n",
              "      <td>0</td>\n",
              "      <td>id</td>\n",
              "      <td>object</td>\n",
              "      <td>100000</td>\n",
              "      <td>0</td>\n",
              "    </tr>\n",
              "    <tr>\n",
              "      <th>1</th>\n",
              "      <td>f0</td>\n",
              "      <td>float64</td>\n",
              "      <td>100000</td>\n",
              "      <td>0</td>\n",
              "      <td>f0</td>\n",
              "      <td>float64</td>\n",
              "      <td>100000</td>\n",
              "      <td>0</td>\n",
              "      <td>f0</td>\n",
              "      <td>float64</td>\n",
              "      <td>100000</td>\n",
              "      <td>0</td>\n",
              "    </tr>\n",
              "    <tr>\n",
              "      <th>2</th>\n",
              "      <td>f1</td>\n",
              "      <td>float64</td>\n",
              "      <td>100000</td>\n",
              "      <td>0</td>\n",
              "      <td>f1</td>\n",
              "      <td>float64</td>\n",
              "      <td>100000</td>\n",
              "      <td>0</td>\n",
              "      <td>f1</td>\n",
              "      <td>float64</td>\n",
              "      <td>100000</td>\n",
              "      <td>0</td>\n",
              "    </tr>\n",
              "    <tr>\n",
              "      <th>3</th>\n",
              "      <td>f2</td>\n",
              "      <td>float64</td>\n",
              "      <td>100000</td>\n",
              "      <td>0</td>\n",
              "      <td>f2</td>\n",
              "      <td>float64</td>\n",
              "      <td>100000</td>\n",
              "      <td>0</td>\n",
              "      <td>f2</td>\n",
              "      <td>float64</td>\n",
              "      <td>100000</td>\n",
              "      <td>0</td>\n",
              "    </tr>\n",
              "    <tr>\n",
              "      <th>4</th>\n",
              "      <td>product</td>\n",
              "      <td>float64</td>\n",
              "      <td>100000</td>\n",
              "      <td>0</td>\n",
              "      <td>product</td>\n",
              "      <td>float64</td>\n",
              "      <td>100000</td>\n",
              "      <td>0</td>\n",
              "      <td>product</td>\n",
              "      <td>float64</td>\n",
              "      <td>100000</td>\n",
              "      <td>0</td>\n",
              "    </tr>\n",
              "  </tbody>\n",
              "</table>\n",
              "</div>"
            ],
            "text/plain": [
              "     index   dtypes   count  na_count  ...    index   dtypes   count  na_count\n",
              "0       id   object  100000         0  ...       id   object  100000         0\n",
              "1       f0  float64  100000         0  ...       f0  float64  100000         0\n",
              "2       f1  float64  100000         0  ...       f1  float64  100000         0\n",
              "3       f2  float64  100000         0  ...       f2  float64  100000         0\n",
              "4  product  float64  100000         0  ...  product  float64  100000         0\n",
              "\n",
              "[5 rows x 12 columns]"
            ]
          },
          "metadata": {
            "tags": []
          }
        },
        {
          "output_type": "display_data",
          "data": {
            "text/html": [
              "<div>\n",
              "<style scoped>\n",
              "    .dataframe tbody tr th:only-of-type {\n",
              "        vertical-align: middle;\n",
              "    }\n",
              "\n",
              "    .dataframe tbody tr th {\n",
              "        vertical-align: top;\n",
              "    }\n",
              "\n",
              "    .dataframe thead th {\n",
              "        text-align: right;\n",
              "    }\n",
              "</style>\n",
              "<table border=\"1\" class=\"dataframe\">\n",
              "  <thead>\n",
              "    <tr style=\"text-align: right;\">\n",
              "      <th></th>\n",
              "      <th>id</th>\n",
              "      <th>f0</th>\n",
              "      <th>f1</th>\n",
              "      <th>f2</th>\n",
              "      <th>product</th>\n",
              "      <th>id</th>\n",
              "      <th>f0</th>\n",
              "      <th>f1</th>\n",
              "      <th>f2</th>\n",
              "      <th>product</th>\n",
              "      <th>id</th>\n",
              "      <th>f0</th>\n",
              "      <th>f1</th>\n",
              "      <th>f2</th>\n",
              "      <th>product</th>\n",
              "    </tr>\n",
              "  </thead>\n",
              "  <tbody>\n",
              "    <tr>\n",
              "      <th>0</th>\n",
              "      <td>txEyH</td>\n",
              "      <td>0.706</td>\n",
              "      <td>-0.498</td>\n",
              "      <td>1.221</td>\n",
              "      <td>105.280</td>\n",
              "      <td>kBEdx</td>\n",
              "      <td>-15.001</td>\n",
              "      <td>-8.276</td>\n",
              "      <td>-0.006</td>\n",
              "      <td>3.179</td>\n",
              "      <td>fwXo0</td>\n",
              "      <td>-1.147</td>\n",
              "      <td>0.963</td>\n",
              "      <td>-0.829</td>\n",
              "      <td>27.759</td>\n",
              "    </tr>\n",
              "    <tr>\n",
              "      <th>1</th>\n",
              "      <td>2acmU</td>\n",
              "      <td>1.335</td>\n",
              "      <td>-0.340</td>\n",
              "      <td>4.365</td>\n",
              "      <td>73.038</td>\n",
              "      <td>62mP7</td>\n",
              "      <td>14.272</td>\n",
              "      <td>-3.475</td>\n",
              "      <td>0.999</td>\n",
              "      <td>26.953</td>\n",
              "      <td>WJtFt</td>\n",
              "      <td>0.263</td>\n",
              "      <td>0.270</td>\n",
              "      <td>-2.530</td>\n",
              "      <td>56.070</td>\n",
              "    </tr>\n",
              "    <tr>\n",
              "      <th>2</th>\n",
              "      <td>409Wp</td>\n",
              "      <td>1.023</td>\n",
              "      <td>0.152</td>\n",
              "      <td>1.420</td>\n",
              "      <td>85.266</td>\n",
              "      <td>vyE1P</td>\n",
              "      <td>6.263</td>\n",
              "      <td>-5.948</td>\n",
              "      <td>5.001</td>\n",
              "      <td>134.766</td>\n",
              "      <td>ovLUW</td>\n",
              "      <td>0.195</td>\n",
              "      <td>0.289</td>\n",
              "      <td>-5.586</td>\n",
              "      <td>62.872</td>\n",
              "    </tr>\n",
              "    <tr>\n",
              "      <th>3</th>\n",
              "      <td>iJLyR</td>\n",
              "      <td>-0.032</td>\n",
              "      <td>0.139</td>\n",
              "      <td>2.979</td>\n",
              "      <td>168.621</td>\n",
              "      <td>KcrkZ</td>\n",
              "      <td>-13.081</td>\n",
              "      <td>-11.506</td>\n",
              "      <td>4.999</td>\n",
              "      <td>137.945</td>\n",
              "      <td>q6cA6</td>\n",
              "      <td>2.236</td>\n",
              "      <td>-0.554</td>\n",
              "      <td>0.930</td>\n",
              "      <td>114.573</td>\n",
              "    </tr>\n",
              "    <tr>\n",
              "      <th>4</th>\n",
              "      <td>Xdl7t</td>\n",
              "      <td>1.988</td>\n",
              "      <td>0.155</td>\n",
              "      <td>4.752</td>\n",
              "      <td>154.037</td>\n",
              "      <td>AHL4O</td>\n",
              "      <td>12.702</td>\n",
              "      <td>-8.147</td>\n",
              "      <td>5.004</td>\n",
              "      <td>134.766</td>\n",
              "      <td>WPMUX</td>\n",
              "      <td>-0.516</td>\n",
              "      <td>1.716</td>\n",
              "      <td>5.899</td>\n",
              "      <td>149.601</td>\n",
              "    </tr>\n",
              "  </tbody>\n",
              "</table>\n",
              "</div>"
            ],
            "text/plain": [
              "      id     f0     f1    f2  product  ...     id     f0     f1     f2  product\n",
              "0  txEyH  0.706 -0.498 1.221  105.280  ...  fwXo0 -1.147  0.963 -0.829   27.759\n",
              "1  2acmU  1.335 -0.340 4.365   73.038  ...  WJtFt  0.263  0.270 -2.530   56.070\n",
              "2  409Wp  1.023  0.152 1.420   85.266  ...  ovLUW  0.195  0.289 -5.586   62.872\n",
              "3  iJLyR -0.032  0.139 2.979  168.621  ...  q6cA6  2.236 -0.554  0.930  114.573\n",
              "4  Xdl7t  1.988  0.155 4.752  154.037  ...  WPMUX -0.516  1.716  5.899  149.601\n",
              "\n",
              "[5 rows x 15 columns]"
            ]
          },
          "metadata": {
            "tags": []
          }
        },
        {
          "output_type": "display_data",
          "data": {
            "text/html": [
              "<div>\n",
              "<style scoped>\n",
              "    .dataframe tbody tr th:only-of-type {\n",
              "        vertical-align: middle;\n",
              "    }\n",
              "\n",
              "    .dataframe tbody tr th {\n",
              "        vertical-align: top;\n",
              "    }\n",
              "\n",
              "    .dataframe thead th {\n",
              "        text-align: right;\n",
              "    }\n",
              "</style>\n",
              "<table border=\"1\" class=\"dataframe\">\n",
              "  <thead>\n",
              "    <tr style=\"text-align: right;\">\n",
              "      <th></th>\n",
              "      <th>f0</th>\n",
              "      <th>f1</th>\n",
              "      <th>f2</th>\n",
              "      <th>product</th>\n",
              "      <th>f0</th>\n",
              "      <th>f1</th>\n",
              "      <th>f2</th>\n",
              "      <th>product</th>\n",
              "      <th>f0</th>\n",
              "      <th>f1</th>\n",
              "      <th>f2</th>\n",
              "      <th>product</th>\n",
              "    </tr>\n",
              "  </thead>\n",
              "  <tbody>\n",
              "    <tr>\n",
              "      <th>count</th>\n",
              "      <td>100,000.000</td>\n",
              "      <td>100,000.000</td>\n",
              "      <td>100,000.000</td>\n",
              "      <td>100,000.000</td>\n",
              "      <td>100,000.000</td>\n",
              "      <td>100,000.000</td>\n",
              "      <td>100,000.000</td>\n",
              "      <td>100,000.000</td>\n",
              "      <td>100,000.000</td>\n",
              "      <td>100,000.000</td>\n",
              "      <td>100,000.000</td>\n",
              "      <td>100,000.000</td>\n",
              "    </tr>\n",
              "    <tr>\n",
              "      <th>mean</th>\n",
              "      <td>0.500</td>\n",
              "      <td>0.250</td>\n",
              "      <td>2.503</td>\n",
              "      <td>92.500</td>\n",
              "      <td>1.141</td>\n",
              "      <td>-4.797</td>\n",
              "      <td>2.495</td>\n",
              "      <td>68.825</td>\n",
              "      <td>0.002</td>\n",
              "      <td>-0.002</td>\n",
              "      <td>2.495</td>\n",
              "      <td>95.000</td>\n",
              "    </tr>\n",
              "    <tr>\n",
              "      <th>std</th>\n",
              "      <td>0.872</td>\n",
              "      <td>0.504</td>\n",
              "      <td>3.248</td>\n",
              "      <td>44.289</td>\n",
              "      <td>8.966</td>\n",
              "      <td>5.120</td>\n",
              "      <td>1.704</td>\n",
              "      <td>45.944</td>\n",
              "      <td>1.732</td>\n",
              "      <td>1.730</td>\n",
              "      <td>3.473</td>\n",
              "      <td>44.750</td>\n",
              "    </tr>\n",
              "    <tr>\n",
              "      <th>min</th>\n",
              "      <td>-1.409</td>\n",
              "      <td>-0.848</td>\n",
              "      <td>-12.088</td>\n",
              "      <td>0.000</td>\n",
              "      <td>-31.610</td>\n",
              "      <td>-26.359</td>\n",
              "      <td>-0.018</td>\n",
              "      <td>0.000</td>\n",
              "      <td>-8.760</td>\n",
              "      <td>-7.084</td>\n",
              "      <td>-11.970</td>\n",
              "      <td>0.000</td>\n",
              "    </tr>\n",
              "    <tr>\n",
              "      <th>25%</th>\n",
              "      <td>-0.073</td>\n",
              "      <td>-0.201</td>\n",
              "      <td>0.288</td>\n",
              "      <td>56.498</td>\n",
              "      <td>-6.299</td>\n",
              "      <td>-8.268</td>\n",
              "      <td>1.000</td>\n",
              "      <td>26.953</td>\n",
              "      <td>-1.162</td>\n",
              "      <td>-1.175</td>\n",
              "      <td>0.130</td>\n",
              "      <td>59.450</td>\n",
              "    </tr>\n",
              "    <tr>\n",
              "      <th>50%</th>\n",
              "      <td>0.502</td>\n",
              "      <td>0.250</td>\n",
              "      <td>2.516</td>\n",
              "      <td>91.850</td>\n",
              "      <td>1.153</td>\n",
              "      <td>-4.813</td>\n",
              "      <td>2.011</td>\n",
              "      <td>57.086</td>\n",
              "      <td>0.009</td>\n",
              "      <td>-0.009</td>\n",
              "      <td>2.484</td>\n",
              "      <td>94.926</td>\n",
              "    </tr>\n",
              "    <tr>\n",
              "      <th>75%</th>\n",
              "      <td>1.074</td>\n",
              "      <td>0.701</td>\n",
              "      <td>4.715</td>\n",
              "      <td>128.564</td>\n",
              "      <td>8.621</td>\n",
              "      <td>-1.333</td>\n",
              "      <td>4.000</td>\n",
              "      <td>107.813</td>\n",
              "      <td>1.159</td>\n",
              "      <td>1.164</td>\n",
              "      <td>4.859</td>\n",
              "      <td>130.595</td>\n",
              "    </tr>\n",
              "    <tr>\n",
              "      <th>max</th>\n",
              "      <td>2.362</td>\n",
              "      <td>1.344</td>\n",
              "      <td>16.004</td>\n",
              "      <td>185.364</td>\n",
              "      <td>29.422</td>\n",
              "      <td>18.734</td>\n",
              "      <td>5.020</td>\n",
              "      <td>137.945</td>\n",
              "      <td>7.238</td>\n",
              "      <td>7.845</td>\n",
              "      <td>16.739</td>\n",
              "      <td>190.030</td>\n",
              "    </tr>\n",
              "  </tbody>\n",
              "</table>\n",
              "</div>"
            ],
            "text/plain": [
              "               f0          f1          f2  ...          f1          f2     product\n",
              "count 100,000.000 100,000.000 100,000.000  ... 100,000.000 100,000.000 100,000.000\n",
              "mean        0.500       0.250       2.503  ...      -0.002       2.495      95.000\n",
              "std         0.872       0.504       3.248  ...       1.730       3.473      44.750\n",
              "min        -1.409      -0.848     -12.088  ...      -7.084     -11.970       0.000\n",
              "25%        -0.073      -0.201       0.288  ...      -1.175       0.130      59.450\n",
              "50%         0.502       0.250       2.516  ...      -0.009       2.484      94.926\n",
              "75%         1.074       0.701       4.715  ...       1.164       4.859     130.595\n",
              "max         2.362       1.344      16.004  ...       7.845      16.739     190.030\n",
              "\n",
              "[8 rows x 12 columns]"
            ]
          },
          "metadata": {
            "tags": []
          }
        },
        {
          "output_type": "display_data",
          "data": {
            "text/html": [
              "<div>\n",
              "<style scoped>\n",
              "    .dataframe tbody tr th:only-of-type {\n",
              "        vertical-align: middle;\n",
              "    }\n",
              "\n",
              "    .dataframe tbody tr th {\n",
              "        vertical-align: top;\n",
              "    }\n",
              "\n",
              "    .dataframe thead th {\n",
              "        text-align: right;\n",
              "    }\n",
              "</style>\n",
              "<table border=\"1\" class=\"dataframe\">\n",
              "  <thead>\n",
              "    <tr style=\"text-align: right;\">\n",
              "      <th></th>\n",
              "      <th>f0</th>\n",
              "      <th>f1</th>\n",
              "      <th>f2</th>\n",
              "      <th>product</th>\n",
              "      <th>f0</th>\n",
              "      <th>f1</th>\n",
              "      <th>f2</th>\n",
              "      <th>product</th>\n",
              "      <th>f0</th>\n",
              "      <th>f1</th>\n",
              "      <th>f2</th>\n",
              "      <th>product</th>\n",
              "    </tr>\n",
              "  </thead>\n",
              "  <tbody>\n",
              "    <tr>\n",
              "      <th>f0</th>\n",
              "      <td>1.000</td>\n",
              "      <td>-0.441</td>\n",
              "      <td>-0.003</td>\n",
              "      <td>0.144</td>\n",
              "      <td>1.000</td>\n",
              "      <td>0.182</td>\n",
              "      <td>-0.002</td>\n",
              "      <td>-0.030</td>\n",
              "      <td>1.000</td>\n",
              "      <td>0.001</td>\n",
              "      <td>-0.000</td>\n",
              "      <td>-0.002</td>\n",
              "    </tr>\n",
              "    <tr>\n",
              "      <th>f1</th>\n",
              "      <td>-0.441</td>\n",
              "      <td>1.000</td>\n",
              "      <td>0.002</td>\n",
              "      <td>-0.192</td>\n",
              "      <td>0.182</td>\n",
              "      <td>1.000</td>\n",
              "      <td>-0.003</td>\n",
              "      <td>-0.010</td>\n",
              "      <td>0.001</td>\n",
              "      <td>1.000</td>\n",
              "      <td>0.001</td>\n",
              "      <td>-0.001</td>\n",
              "    </tr>\n",
              "    <tr>\n",
              "      <th>f2</th>\n",
              "      <td>-0.003</td>\n",
              "      <td>0.002</td>\n",
              "      <td>1.000</td>\n",
              "      <td>0.484</td>\n",
              "      <td>-0.002</td>\n",
              "      <td>-0.003</td>\n",
              "      <td>1.000</td>\n",
              "      <td>0.999</td>\n",
              "      <td>-0.000</td>\n",
              "      <td>0.001</td>\n",
              "      <td>1.000</td>\n",
              "      <td>0.446</td>\n",
              "    </tr>\n",
              "    <tr>\n",
              "      <th>product</th>\n",
              "      <td>0.144</td>\n",
              "      <td>-0.192</td>\n",
              "      <td>0.484</td>\n",
              "      <td>1.000</td>\n",
              "      <td>-0.030</td>\n",
              "      <td>-0.010</td>\n",
              "      <td>0.999</td>\n",
              "      <td>1.000</td>\n",
              "      <td>-0.002</td>\n",
              "      <td>-0.001</td>\n",
              "      <td>0.446</td>\n",
              "      <td>1.000</td>\n",
              "    </tr>\n",
              "  </tbody>\n",
              "</table>\n",
              "</div>"
            ],
            "text/plain": [
              "            f0     f1     f2  product  ...     f0     f1     f2  product\n",
              "f0       1.000 -0.441 -0.003    0.144  ...  1.000  0.001 -0.000   -0.002\n",
              "f1      -0.441  1.000  0.002   -0.192  ...  0.001  1.000  0.001   -0.001\n",
              "f2      -0.003  0.002  1.000    0.484  ... -0.000  0.001  1.000    0.446\n",
              "product  0.144 -0.192  0.484    1.000  ... -0.002 -0.001  0.446    1.000\n",
              "\n",
              "[4 rows x 12 columns]"
            ]
          },
          "metadata": {
            "tags": []
          }
        }
      ]
    },
    {
      "cell_type": "markdown",
      "metadata": {
        "id": "5jyC6AZwFYjG",
        "colab_type": "text"
      },
      "source": [
        "Посмотрим, как распределены данные."
      ]
    },
    {
      "cell_type": "code",
      "metadata": {
        "id": "AnFaAjvA2Pj6",
        "colab_type": "code",
        "colab": {
          "base_uri": "https://localhost:8080/",
          "height": 1000
        },
        "outputId": "1ecd3d13-7c05-416a-f02f-ad107b2cfe52"
      },
      "source": [
        "for r in rs:\n",
        "    fig = make_subplots(rows=1, cols=len(r.columns[1:]), subplot_titles=r.columns[1:])\n",
        "    i = 1\n",
        "    for feature in r.columns[1:]:\n",
        "        fig.add_trace(go.Histogram(x=r[feature]), row=1, col=i)\n",
        "        fig.update_layout(height=350, showlegend=False)        \n",
        "        i += 1\n",
        "    fig.show('png')"
      ],
      "execution_count": null,
      "outputs": [
        {
          "output_type": "display_data",
          "data": {
            "image/png": "[encoded data removed]"
          },
          "metadata": {
            "tags": []
          }
        },
        {
          "output_type": "display_data",
          "data": {
            "image/png": "[encoded data removed]"
          },
          "metadata": {
            "tags": []
          }
        },
        {
          "output_type": "display_data",
          "data": {
            "image/png": "[encoded data removed]"
          },
          "metadata": {
            "tags": []
          }
        }
      ]
    },
    {
      "cell_type": "markdown",
      "metadata": {
        "id": "A-rNFwCObEBT",
        "colab_type": "text"
      },
      "source": [
        "Мы видим, что в целом данные готовы к работе. Пропусков нет, типы данных корректны.  \n",
        "\n",
        "Очевидно , что значения id не представляют для нас ценности, поэтому не будем учитывать их в дальнейшем при формировании выборок.\n",
        "\n",
        "Данные в основном распределены нормально. При этом обратим внимание на то, как выделяется второй регион (r1). Мы видим всего 12 уникальных значений целевого признака и его почти полную корреляцию с признаком f2.\n",
        "\n"
      ]
    },
    {
      "cell_type": "markdown",
      "metadata": {
        "id": "YeQeEY3ibEBs",
        "colab_type": "text"
      },
      "source": [
        "<a id=\"2\"></a> \n",
        "## 2. Построение моделей для регионов добычи"
      ]
    },
    {
      "cell_type": "markdown",
      "metadata": {
        "id": "TgEIihfgrcDA",
        "colab_type": "text"
      },
      "source": [
        "Разобъем данные на обучающую и валидационную выборки в соотношении 3:1.  "
      ]
    },
    {
      "cell_type": "code",
      "metadata": {
        "id": "eNfJ2uSJJ_xf",
        "colab_type": "code",
        "colab": {}
      },
      "source": [
        "X_train, X_valid, y_train, y_valid = [], [], [], []\n",
        "for r in rs:\n",
        "    a, b, c, d = train_test_split(r.iloc[:, 1:-1], \n",
        "                                  r.iloc[:, -1], \n",
        "                                  test_size=.25, \n",
        "                                  random_state=0\n",
        "                                  )\n",
        "    X_train.append(a) \n",
        "    X_valid.append(b) \n",
        "    y_train.append(c) \n",
        "    y_valid.append(d) "
      ],
      "execution_count": null,
      "outputs": []
    },
    {
      "cell_type": "markdown",
      "metadata": {
        "id": "UlGjp55b8VZm",
        "colab_type": "text"
      },
      "source": [
        "Обучим модель и сделаем предсказания на валидационной выборке. Сохраним все предсказания в Series `predicted_valid`"
      ]
    },
    {
      "cell_type": "code",
      "metadata": {
        "id": "eRFdn-VMSqq6",
        "colab_type": "code",
        "colab": {}
      },
      "source": [
        "lr = LinearRegression()\n",
        "predicted_valid = []\n",
        "for i in range(3):\n",
        "    lr.fit(X_train[i], y_train[i])\n",
        "    predicted_valid.append(pd.Series(lr.predict(X_valid[i]), \n",
        "                                     index=y_valid[i].index))"
      ],
      "execution_count": null,
      "outputs": []
    },
    {
      "cell_type": "markdown",
      "metadata": {
        "id": "QIAiuzHprs48",
        "colab_type": "text"
      },
      "source": [
        "Оценим результаты на валидационной выборке."
      ]
    },
    {
      "cell_type": "code",
      "metadata": {
        "id": "9gYXb5wsaoSq",
        "colab_type": "code",
        "colab": {
          "base_uri": "https://localhost:8080/",
          "height": 142
        },
        "outputId": "0714a7a1-1684-4b35-a70b-821106221f89"
      },
      "source": [
        "_ = []\n",
        "for i in range(3):\n",
        "    rmse = mean_squared_error(y_valid[i], predicted_valid[i]) ** 0.5\n",
        "    _.append([y_valid[i].mean(), predicted_valid[i].mean(), rmse])\n",
        "mean_values = pd.DataFrame(_, columns=['y_valid_mean', 'predicted_valid_mean', 'rmse'])   \n",
        "mean_values"
      ],
      "execution_count": null,
      "outputs": [
        {
          "output_type": "execute_result",
          "data": {
            "text/html": [
              "<div>\n",
              "<style scoped>\n",
              "    .dataframe tbody tr th:only-of-type {\n",
              "        vertical-align: middle;\n",
              "    }\n",
              "\n",
              "    .dataframe tbody tr th {\n",
              "        vertical-align: top;\n",
              "    }\n",
              "\n",
              "    .dataframe thead th {\n",
              "        text-align: right;\n",
              "    }\n",
              "</style>\n",
              "<table border=\"1\" class=\"dataframe\">\n",
              "  <thead>\n",
              "    <tr style=\"text-align: right;\">\n",
              "      <th></th>\n",
              "      <th>y_valid_mean</th>\n",
              "      <th>predicted_valid_mean</th>\n",
              "      <th>rmse</th>\n",
              "    </tr>\n",
              "  </thead>\n",
              "  <tbody>\n",
              "    <tr>\n",
              "      <th>0</th>\n",
              "      <td>92.467</td>\n",
              "      <td>92.271</td>\n",
              "      <td>37.481</td>\n",
              "    </tr>\n",
              "    <tr>\n",
              "      <th>1</th>\n",
              "      <td>69.154</td>\n",
              "      <td>69.152</td>\n",
              "      <td>0.887</td>\n",
              "    </tr>\n",
              "    <tr>\n",
              "      <th>2</th>\n",
              "      <td>95.471</td>\n",
              "      <td>94.708</td>\n",
              "      <td>40.313</td>\n",
              "    </tr>\n",
              "  </tbody>\n",
              "</table>\n",
              "</div>"
            ],
            "text/plain": [
              "   y_valid_mean  predicted_valid_mean   rmse\n",
              "0        92.467                92.271 37.481\n",
              "1        69.154                69.152  0.887\n",
              "2        95.471                94.708 40.313"
            ]
          },
          "metadata": {
            "tags": []
          },
          "execution_count": 8
        }
      ]
    },
    {
      "cell_type": "markdown",
      "metadata": {
        "id": "MMTsLHLtmGq5",
        "colab_type": "text"
      },
      "source": [
        "Сравним фактические и предсказанные значения на графиках."
      ]
    },
    {
      "cell_type": "code",
      "metadata": {
        "id": "ZOB9HFuxju3y",
        "colab_type": "code",
        "colab": {
          "base_uri": "https://localhost:8080/",
          "height": 467
        },
        "outputId": "f281e133-687c-4d9e-ce35-1ce244caf65a"
      },
      "source": [
        "fig = make_subplots(rows=1, cols=3)\n",
        "i = 1\n",
        "for r in range(3):\n",
        "    fig.add_trace(go.Scatter(y=sorted(predicted_valid[r]), \n",
        "                             name='predicted_valid'), row=1, col=i)\n",
        "    fig.add_trace(go.Scatter(y=sorted(y_valid[r]), \n",
        "                             name='y_valid'), row=1, col=i)\n",
        "    fig.update_layout(title='Предсказанный запас и реальные значения по регионам на валидационной выборке')\n",
        "    i += 1\n",
        "fig.show('png')"
      ],
      "execution_count": null,
      "outputs": [
        {
          "output_type": "display_data",
          "data": {
            "image/png": "[encoded data removed]"
          },
          "metadata": {
            "tags": []
          }
        }
      ]
    },
    {
      "cell_type": "markdown",
      "metadata": {
        "id": "Pf2g-Ca6Fl2S",
        "colab_type": "text"
      },
      "source": [
        "Мы можем наблюдать наилучшие результаты предсказаний по региону r1, что было ожидаемо с учетом сильной корреляции целевой переменной с одним из признаков.  \n",
        "Заметим также, что в двух остальных регионах модели предсказывают завышенные значения в области ниже среднего и наоборот."
      ]
    },
    {
      "cell_type": "markdown",
      "metadata": {
        "id": "zVU_bSh1a7Ui",
        "colab_type": "text"
      },
      "source": [
        "<a id=\"3\"></a> \n",
        "## 3. Расчет прибыли и оценка рисков возникновения убытков"
      ]
    },
    {
      "cell_type": "markdown",
      "metadata": {
        "id": "FSLNF7Y-3TMk",
        "colab_type": "text"
      },
      "source": [
        "Сохраним ключевые значения для расчетов.  "
      ]
    },
    {
      "cell_type": "code",
      "metadata": {
        "id": "URZ64sa9jcmN",
        "colab_type": "code",
        "colab": {}
      },
      "source": [
        "POINTS = 500          # количество точек, исследуемых при разведке региона \n",
        "BEST_POINTS = 200     # количество лучших точек, выбираемых для расчёта прибыли\n",
        "BUDGET = 10_000_000   # бюджет на разработку скважин в регионе, тыс. руб.\n",
        "UNIT_REVENUE = 450    # доход с каждой единицы продукта (с каждой тыc. барр.), тыс. руб.\n",
        "LOSS_PROB = .025      # критическое значение вероятности убытков (регионы с бОльшим значением удаляются из рассмотрения)"
      ],
      "execution_count": null,
      "outputs": []
    },
    {
      "cell_type": "markdown",
      "metadata": {
        "id": "3zbFcmOr_y8x",
        "colab_type": "text"
      },
      "source": [
        "Рассчитаем достаточный объём сырья для безубыточной разработки новой скважины. "
      ]
    },
    {
      "cell_type": "code",
      "metadata": {
        "id": "rcgAegTG-7HU",
        "colab_type": "code",
        "colab": {}
      },
      "source": [
        "bep = BUDGET / UNIT_REVENUE / BEST_POINTS"
      ],
      "execution_count": null,
      "outputs": []
    },
    {
      "cell_type": "markdown",
      "metadata": {
        "id": "2977Hc9arwGt",
        "colab_type": "text"
      },
      "source": [
        "Сравним полученный объём сырья со средним запасом в каждом регионе."
      ]
    },
    {
      "cell_type": "code",
      "metadata": {
        "id": "hVgtv8wNEDeg",
        "colab_type": "code",
        "colab": {
          "base_uri": "https://localhost:8080/",
          "height": 142
        },
        "outputId": "f9aa064f-6cc7-4bf8-c06f-42b1113ef1a1"
      },
      "source": [
        "mean_values['BEP'] = bep\n",
        "mean_values.iloc[:, [0, -1]]"
      ],
      "execution_count": null,
      "outputs": [
        {
          "output_type": "execute_result",
          "data": {
            "text/html": [
              "<div>\n",
              "<style scoped>\n",
              "    .dataframe tbody tr th:only-of-type {\n",
              "        vertical-align: middle;\n",
              "    }\n",
              "\n",
              "    .dataframe tbody tr th {\n",
              "        vertical-align: top;\n",
              "    }\n",
              "\n",
              "    .dataframe thead th {\n",
              "        text-align: right;\n",
              "    }\n",
              "</style>\n",
              "<table border=\"1\" class=\"dataframe\">\n",
              "  <thead>\n",
              "    <tr style=\"text-align: right;\">\n",
              "      <th></th>\n",
              "      <th>y_valid_mean</th>\n",
              "      <th>BEP</th>\n",
              "    </tr>\n",
              "  </thead>\n",
              "  <tbody>\n",
              "    <tr>\n",
              "      <th>0</th>\n",
              "      <td>92.467</td>\n",
              "      <td>111.111</td>\n",
              "    </tr>\n",
              "    <tr>\n",
              "      <th>1</th>\n",
              "      <td>69.154</td>\n",
              "      <td>111.111</td>\n",
              "    </tr>\n",
              "    <tr>\n",
              "      <th>2</th>\n",
              "      <td>95.471</td>\n",
              "      <td>111.111</td>\n",
              "    </tr>\n",
              "  </tbody>\n",
              "</table>\n",
              "</div>"
            ],
            "text/plain": [
              "   y_valid_mean     BEP\n",
              "0        92.467 111.111\n",
              "1        69.154 111.111\n",
              "2        95.471 111.111"
            ]
          },
          "metadata": {
            "tags": []
          },
          "execution_count": 12
        }
      ]
    },
    {
      "cell_type": "markdown",
      "metadata": {
        "id": "7YWz8fzYFJ2q",
        "colab_type": "text"
      },
      "source": [
        "Очевидно, что средние значения запасов сырья меньше значений безубыточности.     При этом обратим внимание, что при расчете прибыли в новом регионе мы оприаемся только на 200 лучших точек из 500 исследуемых. Рассчитаем средние значения для лучших 200 точек в выборке."
      ]
    },
    {
      "cell_type": "code",
      "metadata": {
        "id": "oKigdMSUptX5",
        "colab_type": "code",
        "colab": {
          "base_uri": "https://localhost:8080/",
          "height": 142
        },
        "outputId": "bb1589c2-bd43-4f41-f2ec-e63f1bdfacf8"
      },
      "source": [
        "mean_values['best_points_mean'] = [(y_valid[i]\n",
        "                                    .sort_values()[-BEST_POINTS:]\n",
        "                                    .mean()) for i in range(3)]\n",
        "mean_values.iloc[:, [0, -1, -2]]"
      ],
      "execution_count": null,
      "outputs": [
        {
          "output_type": "execute_result",
          "data": {
            "text/html": [
              "<div>\n",
              "<style scoped>\n",
              "    .dataframe tbody tr th:only-of-type {\n",
              "        vertical-align: middle;\n",
              "    }\n",
              "\n",
              "    .dataframe tbody tr th {\n",
              "        vertical-align: top;\n",
              "    }\n",
              "\n",
              "    .dataframe thead th {\n",
              "        text-align: right;\n",
              "    }\n",
              "</style>\n",
              "<table border=\"1\" class=\"dataframe\">\n",
              "  <thead>\n",
              "    <tr style=\"text-align: right;\">\n",
              "      <th></th>\n",
              "      <th>y_valid_mean</th>\n",
              "      <th>best_points_mean</th>\n",
              "      <th>BEP</th>\n",
              "    </tr>\n",
              "  </thead>\n",
              "  <tbody>\n",
              "    <tr>\n",
              "      <th>0</th>\n",
              "      <td>92.467</td>\n",
              "      <td>183.445</td>\n",
              "      <td>111.111</td>\n",
              "    </tr>\n",
              "    <tr>\n",
              "      <th>1</th>\n",
              "      <td>69.154</td>\n",
              "      <td>137.945</td>\n",
              "      <td>111.111</td>\n",
              "    </tr>\n",
              "    <tr>\n",
              "      <th>2</th>\n",
              "      <td>95.471</td>\n",
              "      <td>187.933</td>\n",
              "      <td>111.111</td>\n",
              "    </tr>\n",
              "  </tbody>\n",
              "</table>\n",
              "</div>"
            ],
            "text/plain": [
              "   y_valid_mean  best_points_mean     BEP\n",
              "0        92.467           183.445 111.111\n",
              "1        69.154           137.945 111.111\n",
              "2        95.471           187.933 111.111"
            ]
          },
          "metadata": {
            "tags": []
          },
          "execution_count": 13
        }
      ]
    },
    {
      "cell_type": "markdown",
      "metadata": {
        "id": "igpCg6MSsPfZ",
        "colab_type": "text"
      },
      "source": [
        "В данном случае мы наблюдаем обратную картину во всех регионах."
      ]
    },
    {
      "cell_type": "markdown",
      "metadata": {
        "id": "deI_j-k0KOow",
        "colab_type": "text"
      },
      "source": [
        "Напишем функцию для расчёта прибыли по выбранным скважинам и предсказаниям модели."
      ]
    },
    {
      "cell_type": "code",
      "metadata": {
        "id": "VTtEYu1om-oV",
        "colab_type": "code",
        "colab": {}
      },
      "source": [
        "def profit(target, prediction, n_wells):\n",
        "    wells_max = target[prediction.sort_values().index][-n_wells:]   # скважины с максимальными значениями предсказаний\n",
        "    amount = wells_max.sum()\n",
        "    profit = UNIT_REVENUE * amount - BUDGET\n",
        "    return profit"
      ],
      "execution_count": null,
      "outputs": []
    },
    {
      "cell_type": "markdown",
      "metadata": {
        "id": "Q-5IKVJOrz_q",
        "colab_type": "text"
      },
      "source": [
        "Применим технику Bootstrap с 1000 выборок, чтобы найти распределение прибыли.  \n",
        " Сохраним полученные распределения по каждому региону в списке `prof_dist`."
      ]
    },
    {
      "cell_type": "code",
      "metadata": {
        "id": "Gv2394ey3bv1",
        "colab_type": "code",
        "colab": {}
      },
      "source": [
        "state = np.random.RandomState(0)\n",
        "\n",
        "prof_dist = []\n",
        "for i in range(3):    \n",
        "    values = []\n",
        "    for j in range(1000):\n",
        "        y_subsample = y_valid[i].sample(n=POINTS, replace=True, random_state=state) \n",
        "        pred_subsample = predicted_valid[i][y_subsample.index]\n",
        "        prof = profit(y_subsample, pred_subsample, BEST_POINTS)\n",
        "        values.append(prof)\n",
        "\n",
        "    values = pd.Series(values)\n",
        "    prof_dist.append(values)"
      ],
      "execution_count": null,
      "outputs": []
    },
    {
      "cell_type": "markdown",
      "metadata": {
        "id": "C0wlLX5O-s43",
        "colab_type": "text"
      },
      "source": [
        "Найдем среднюю прибыль, 95%-й доверительный интервал и риск убытков."
      ]
    },
    {
      "cell_type": "code",
      "metadata": {
        "id": "d4Pwd3yBr2Ex",
        "colab_type": "code",
        "colab": {
          "base_uri": "https://localhost:8080/",
          "height": 142
        },
        "outputId": "bc7ed92a-c3a0-4a4d-cdea-2bd3f24f0f49"
      },
      "source": [
        "def conf_int(sample):\n",
        "    return st.t.interval(alpha=.95, df=len(sample)-1, \n",
        "                         loc=sample.mean(), scale=sample.sem()) \n",
        "\n",
        "\n",
        "res = pd.DataFrame(({'lower': conf_int(prof_dist[i])[0],                        # нижняя граница доверительного интервала\n",
        "                     'upper': conf_int(prof_dist[i])[1],                        # верхняя граница доверительного интервала\n",
        "                     'mean': prof_dist[i].mean(),                               # среднее значение \n",
        "                     'loss_prob': (prof_dist[i] < 0).sum() / len(prof_dist[i])  # вероятность убытков\n",
        "                     } for i in range(3)),                                      # по каждому региону\n",
        "                     index=['r0', 'r1', 'r2'])\n",
        "\n",
        "res['pass'] = res.loss_prob < LOSS_PROB                                         # проходит ли значение отбор по допустимой вероятности убытков\n",
        "res"
      ],
      "execution_count": null,
      "outputs": [
        {
          "output_type": "execute_result",
          "data": {
            "text/html": [
              "<div>\n",
              "<style scoped>\n",
              "    .dataframe tbody tr th:only-of-type {\n",
              "        vertical-align: middle;\n",
              "    }\n",
              "\n",
              "    .dataframe tbody tr th {\n",
              "        vertical-align: top;\n",
              "    }\n",
              "\n",
              "    .dataframe thead th {\n",
              "        text-align: right;\n",
              "    }\n",
              "</style>\n",
              "<table border=\"1\" class=\"dataframe\">\n",
              "  <thead>\n",
              "    <tr style=\"text-align: right;\">\n",
              "      <th></th>\n",
              "      <th>lower</th>\n",
              "      <th>upper</th>\n",
              "      <th>mean</th>\n",
              "      <th>loss_prob</th>\n",
              "      <th>pass</th>\n",
              "    </tr>\n",
              "  </thead>\n",
              "  <tbody>\n",
              "    <tr>\n",
              "      <th>r0</th>\n",
              "      <td>454,306.064</td>\n",
              "      <td>487,359.509</td>\n",
              "      <td>470,832.787</td>\n",
              "      <td>0.035</td>\n",
              "      <td>False</td>\n",
              "    </tr>\n",
              "    <tr>\n",
              "      <th>r1</th>\n",
              "      <td>515,193.820</td>\n",
              "      <td>540,312.910</td>\n",
              "      <td>527,753.365</td>\n",
              "      <td>0.004</td>\n",
              "      <td>True</td>\n",
              "    </tr>\n",
              "    <tr>\n",
              "      <th>r2</th>\n",
              "      <td>394,963.004</td>\n",
              "      <td>429,694.261</td>\n",
              "      <td>412,328.632</td>\n",
              "      <td>0.060</td>\n",
              "      <td>False</td>\n",
              "    </tr>\n",
              "  </tbody>\n",
              "</table>\n",
              "</div>"
            ],
            "text/plain": [
              "         lower       upper        mean  loss_prob   pass\n",
              "r0 454,306.064 487,359.509 470,832.787      0.035  False\n",
              "r1 515,193.820 540,312.910 527,753.365      0.004   True\n",
              "r2 394,963.004 429,694.261 412,328.632      0.060  False"
            ]
          },
          "metadata": {
            "tags": []
          },
          "execution_count": 16
        }
      ]
    },
    {
      "cell_type": "markdown",
      "metadata": {
        "id": "9z4Lm0Bxf0LD",
        "colab_type": "text"
      },
      "source": [
        "Визуализируем найденные распределения прибыли по каждому региону."
      ]
    },
    {
      "cell_type": "code",
      "metadata": {
        "id": "GfQh5coGAsXf",
        "colab_type": "code",
        "colab": {
          "base_uri": "https://localhost:8080/",
          "height": 467
        },
        "outputId": "73c44515-2d9c-4f83-e9d6-fb6dbf3d357f"
      },
      "source": [
        "fig = go.Figure()\n",
        "\n",
        "for r in range(3):\n",
        "    fig.add_trace(go.Box(x=prof_dist[r], name='r'+str(r), boxmean='sd')) \n",
        "    \n",
        "fig.update_layout(title='Распределение прибыли по регионам', \n",
        "                  xaxis_title = 'Profit',\n",
        "                  yaxis_title = 'Region')\n",
        "fig.show('png')"
      ],
      "execution_count": null,
      "outputs": [
        {
          "output_type": "display_data",
          "data": {
            "image/png": "[encoded data removed]"
          },
          "metadata": {
            "tags": []
          }
        }
      ]
    },
    {
      "cell_type": "markdown",
      "metadata": {
        "id": "B0rOoRdcmdvx",
        "colab_type": "text"
      },
      "source": [
        "Мы видим, что только регион r1 удовлетворяет требованию о вероятности убытков менее 2.5%. Он же показывает наибольшую среднюю прибыль.  \n",
        "Таким образом, для разработки скважин мы предлагаем регион r1."
      ]
    },
    {
      "cell_type": "markdown",
      "metadata": {
        "id": "XZtg0PCibECb",
        "colab_type": "text"
      },
      "source": [
        "<a id=\"6\"></a> \n",
        "## Выводы"
      ]
    },
    {
      "cell_type": "markdown",
      "metadata": {
        "id": "oGqyXSd5bECc",
        "colab_type": "text"
      },
      "source": [
        "В рамках настоящей работы мы проанализировали и обосновали выбор локации новой скважины для добывающей компании.\n",
        "\n",
        "Мы построили модели и сделали предсказания добычи для каждого региона, рассчитали достаточный объём сырья для безубыточной разработки новой скважины и проанализировали полученные данные.\n",
        "\n",
        "Для определения наиболее перспективного региона нами была проделана работа по оценке распределения прибыли с использованием бутстрепа, после чего мы смогли оценить значения средней прибыли в каждом регионе, 95%-й доверительный интервал и риск убытков.  \n",
        "\n",
        "Базируясь на полученных данных мы увидели, что в регионе r1 вероятность убытков находится на уровне 0,4%, а средняя прибыль составляет почти 528 млн. руб., т.е. данный регион опережает остальные по каждому из ключевых показателей, что и определило наш выбор в пользу этого региона в качестве рекомендуемомго для разработки."
      ]
    }
  ]
}