{
  "nbformat": 4,
  "nbformat_minor": 0,
  "metadata": {
    "kernelspec": {
      "display_name": "Python 3",
      "language": "python",
      "name": "python3"
    },
    "language_info": {
      "codemirror_mode": {
        "name": "ipython",
        "version": 3
      },
      "file_extension": ".py",
      "mimetype": "text/x-python",
      "name": "python",
      "nbconvert_exporter": "python",
      "pygments_lexer": "ipython3",
      "version": "3.7.4"
    },
    "colab": {
      "name": " telecom_tariff_plans_analysis.ipynb",
      "provenance": [],
      "collapsed_sections": []
    }
  },
  "cells": [
    {
      "cell_type": "markdown",
      "metadata": {
        "id": "tBHo3rybrscK",
        "colab_type": "text"
      },
      "source": [
        "# <center> Мегалайн. Определение перспективного тарифа. \n",
        "\n",
        "## Содержание\n",
        "1. [Описание проекта](#1)\n",
        "2. [Импорт библиотек и загрузка данных](#2)\n",
        "3. [Предобработка данных](#3)\n",
        "4. [Исследовательский анализ данных](#4)\n",
        "5. [Проверка гипотез](#5)\n",
        "6. [Выводы](#6)"
      ]
    },
    {
      "cell_type": "markdown",
      "metadata": {
        "id": "64PuejcorscL",
        "colab_type": "text"
      },
      "source": [
        "<a id=\"1\"></a> \n",
        "## 1. Описание проекта\n",
        "В настоящее время компания Мегалайн предлагает клиентам два тарифных плана: «Смарт» и «Ультра».\n",
        "\n",
        "Целью нашего исследования является выявление тарифа, приносящего наибольшую прибыль компании. \n",
        "\n",
        "В данной работе проведем предварительный анализ тарифов на выборке из данных 500 клиентов за 2018г.\n",
        "Мы узнаем, кто является пользователями \"Мегалайна\", откуда они, каким тарифом пользуются, сколько звонков и сообщений каждый отправил за год. Проанализируем поведение клиентов и сделаем вывод, какой тариф лучше."
      ]
    },
    {
      "cell_type": "markdown",
      "metadata": {
        "id": "MovlB5bZrscM",
        "colab_type": "text"
      },
      "source": [
        "<a id=\"2\"></a> \n",
        "## 2. Импорт библиотек и загрузка данных"
      ]
    },
    {
      "cell_type": "code",
      "metadata": {
        "id": "4wuTCrSLrscM",
        "colab_type": "code",
        "colab": {}
      },
      "source": [
        "import pandas as pd\n",
        "import numpy as np\n",
        "import scipy.stats as st\n",
        "\n",
        "import plotly.graph_objs as go\n",
        "import plotly.express as px\n",
        "\n",
        "import warnings\n",
        "warnings.filterwarnings('ignore')\n",
        "\n",
        "pd.options.display.float_format = '{:.2f}'.format"
      ],
      "execution_count": null,
      "outputs": []
    },
    {
      "cell_type": "code",
      "metadata": {
        "scrolled": true,
        "id": "-oAnsu-irscQ",
        "colab_type": "code",
        "colab": {
          "base_uri": "https://localhost:8080/",
          "height": 1000
        },
        "outputId": "d8b29b27-7cbb-4eee-e062-094fd5ebb10f"
      },
      "source": [
        "# загрузим данные\n",
        "df_users = pd.read_csv('/content/drive/My Drive/Datasets/users.csv')\n",
        "df_calls = pd.read_csv('/content/drive/My Drive/Datasets/calls.csv')\n",
        "df_internet = pd.read_csv('/content/drive/My Drive/Datasets/internet.csv')\n",
        "df_messages = pd.read_csv('/content/drive/My Drive/Datasets/messages.csv')\n",
        "df_tariffs = pd.read_csv('/content/drive/My Drive/Datasets/tariffs.csv')\n",
        "\n",
        "# создадим список загруженных датафрейимов\n",
        "dfs = [df_users, df_calls, df_internet, df_messages, df_tariffs]\n",
        "\n",
        "# выведем основную информацию по каждому и сразу проверим наличие дубликатов\n",
        "for df in dfs:\n",
        "    df_info = pd.concat(\n",
        "        [df.dtypes, \n",
        "         df.isna().count(), \n",
        "         df.isna().sum(), \n",
        "         df.isna().sum() / df.isna().count()],\n",
        "        axis=1, keys=['dtypes', 'count', 'na_count', 'na_ratio']).reset_index()\n",
        "    display(df.head(), df_info, df.describe().T, df.duplicated().sum())"
      ],
      "execution_count": null,
      "outputs": [
        {
          "output_type": "display_data",
          "data": {
            "text/html": [
              "<div>\n",
              "<style scoped>\n",
              "    .dataframe tbody tr th:only-of-type {\n",
              "        vertical-align: middle;\n",
              "    }\n",
              "\n",
              "    .dataframe tbody tr th {\n",
              "        vertical-align: top;\n",
              "    }\n",
              "\n",
              "    .dataframe thead th {\n",
              "        text-align: right;\n",
              "    }\n",
              "</style>\n",
              "<table border=\"1\" class=\"dataframe\">\n",
              "  <thead>\n",
              "    <tr style=\"text-align: right;\">\n",
              "      <th></th>\n",
              "      <th>user_id</th>\n",
              "      <th>age</th>\n",
              "      <th>churn_date</th>\n",
              "      <th>city</th>\n",
              "      <th>first_name</th>\n",
              "      <th>last_name</th>\n",
              "      <th>reg_date</th>\n",
              "      <th>tariff</th>\n",
              "    </tr>\n",
              "  </thead>\n",
              "  <tbody>\n",
              "    <tr>\n",
              "      <th>0</th>\n",
              "      <td>1000</td>\n",
              "      <td>52</td>\n",
              "      <td>NaN</td>\n",
              "      <td>Краснодар</td>\n",
              "      <td>Рафаил</td>\n",
              "      <td>Верещагин</td>\n",
              "      <td>2018-05-25</td>\n",
              "      <td>ultra</td>\n",
              "    </tr>\n",
              "    <tr>\n",
              "      <th>1</th>\n",
              "      <td>1001</td>\n",
              "      <td>41</td>\n",
              "      <td>NaN</td>\n",
              "      <td>Москва</td>\n",
              "      <td>Иван</td>\n",
              "      <td>Ежов</td>\n",
              "      <td>2018-11-01</td>\n",
              "      <td>smart</td>\n",
              "    </tr>\n",
              "    <tr>\n",
              "      <th>2</th>\n",
              "      <td>1002</td>\n",
              "      <td>59</td>\n",
              "      <td>NaN</td>\n",
              "      <td>Стерлитамак</td>\n",
              "      <td>Евгений</td>\n",
              "      <td>Абрамович</td>\n",
              "      <td>2018-06-17</td>\n",
              "      <td>smart</td>\n",
              "    </tr>\n",
              "    <tr>\n",
              "      <th>3</th>\n",
              "      <td>1003</td>\n",
              "      <td>23</td>\n",
              "      <td>NaN</td>\n",
              "      <td>Москва</td>\n",
              "      <td>Белла</td>\n",
              "      <td>Белякова</td>\n",
              "      <td>2018-08-17</td>\n",
              "      <td>ultra</td>\n",
              "    </tr>\n",
              "    <tr>\n",
              "      <th>4</th>\n",
              "      <td>1004</td>\n",
              "      <td>68</td>\n",
              "      <td>NaN</td>\n",
              "      <td>Новокузнецк</td>\n",
              "      <td>Татьяна</td>\n",
              "      <td>Авдеенко</td>\n",
              "      <td>2018-05-14</td>\n",
              "      <td>ultra</td>\n",
              "    </tr>\n",
              "  </tbody>\n",
              "</table>\n",
              "</div>"
            ],
            "text/plain": [
              "   user_id  age churn_date  ...  last_name    reg_date tariff\n",
              "0     1000   52        NaN  ...  Верещагин  2018-05-25  ultra\n",
              "1     1001   41        NaN  ...       Ежов  2018-11-01  smart\n",
              "2     1002   59        NaN  ...  Абрамович  2018-06-17  smart\n",
              "3     1003   23        NaN  ...   Белякова  2018-08-17  ultra\n",
              "4     1004   68        NaN  ...   Авдеенко  2018-05-14  ultra\n",
              "\n",
              "[5 rows x 8 columns]"
            ]
          },
          "metadata": {
            "tags": []
          }
        },
        {
          "output_type": "display_data",
          "data": {
            "text/html": [
              "<div>\n",
              "<style scoped>\n",
              "    .dataframe tbody tr th:only-of-type {\n",
              "        vertical-align: middle;\n",
              "    }\n",
              "\n",
              "    .dataframe tbody tr th {\n",
              "        vertical-align: top;\n",
              "    }\n",
              "\n",
              "    .dataframe thead th {\n",
              "        text-align: right;\n",
              "    }\n",
              "</style>\n",
              "<table border=\"1\" class=\"dataframe\">\n",
              "  <thead>\n",
              "    <tr style=\"text-align: right;\">\n",
              "      <th></th>\n",
              "      <th>index</th>\n",
              "      <th>dtypes</th>\n",
              "      <th>count</th>\n",
              "      <th>na_count</th>\n",
              "      <th>na_ratio</th>\n",
              "    </tr>\n",
              "  </thead>\n",
              "  <tbody>\n",
              "    <tr>\n",
              "      <th>0</th>\n",
              "      <td>user_id</td>\n",
              "      <td>int64</td>\n",
              "      <td>500</td>\n",
              "      <td>0</td>\n",
              "      <td>0.00</td>\n",
              "    </tr>\n",
              "    <tr>\n",
              "      <th>1</th>\n",
              "      <td>age</td>\n",
              "      <td>int64</td>\n",
              "      <td>500</td>\n",
              "      <td>0</td>\n",
              "      <td>0.00</td>\n",
              "    </tr>\n",
              "    <tr>\n",
              "      <th>2</th>\n",
              "      <td>churn_date</td>\n",
              "      <td>object</td>\n",
              "      <td>500</td>\n",
              "      <td>462</td>\n",
              "      <td>0.92</td>\n",
              "    </tr>\n",
              "    <tr>\n",
              "      <th>3</th>\n",
              "      <td>city</td>\n",
              "      <td>object</td>\n",
              "      <td>500</td>\n",
              "      <td>0</td>\n",
              "      <td>0.00</td>\n",
              "    </tr>\n",
              "    <tr>\n",
              "      <th>4</th>\n",
              "      <td>first_name</td>\n",
              "      <td>object</td>\n",
              "      <td>500</td>\n",
              "      <td>0</td>\n",
              "      <td>0.00</td>\n",
              "    </tr>\n",
              "    <tr>\n",
              "      <th>5</th>\n",
              "      <td>last_name</td>\n",
              "      <td>object</td>\n",
              "      <td>500</td>\n",
              "      <td>0</td>\n",
              "      <td>0.00</td>\n",
              "    </tr>\n",
              "    <tr>\n",
              "      <th>6</th>\n",
              "      <td>reg_date</td>\n",
              "      <td>object</td>\n",
              "      <td>500</td>\n",
              "      <td>0</td>\n",
              "      <td>0.00</td>\n",
              "    </tr>\n",
              "    <tr>\n",
              "      <th>7</th>\n",
              "      <td>tariff</td>\n",
              "      <td>object</td>\n",
              "      <td>500</td>\n",
              "      <td>0</td>\n",
              "      <td>0.00</td>\n",
              "    </tr>\n",
              "  </tbody>\n",
              "</table>\n",
              "</div>"
            ],
            "text/plain": [
              "        index  dtypes  count  na_count  na_ratio\n",
              "0     user_id   int64    500         0      0.00\n",
              "1         age   int64    500         0      0.00\n",
              "2  churn_date  object    500       462      0.92\n",
              "3        city  object    500         0      0.00\n",
              "4  first_name  object    500         0      0.00\n",
              "5   last_name  object    500         0      0.00\n",
              "6    reg_date  object    500         0      0.00\n",
              "7      tariff  object    500         0      0.00"
            ]
          },
          "metadata": {
            "tags": []
          }
        },
        {
          "output_type": "display_data",
          "data": {
            "text/html": [
              "<div>\n",
              "<style scoped>\n",
              "    .dataframe tbody tr th:only-of-type {\n",
              "        vertical-align: middle;\n",
              "    }\n",
              "\n",
              "    .dataframe tbody tr th {\n",
              "        vertical-align: top;\n",
              "    }\n",
              "\n",
              "    .dataframe thead th {\n",
              "        text-align: right;\n",
              "    }\n",
              "</style>\n",
              "<table border=\"1\" class=\"dataframe\">\n",
              "  <thead>\n",
              "    <tr style=\"text-align: right;\">\n",
              "      <th></th>\n",
              "      <th>count</th>\n",
              "      <th>mean</th>\n",
              "      <th>std</th>\n",
              "      <th>min</th>\n",
              "      <th>25%</th>\n",
              "      <th>50%</th>\n",
              "      <th>75%</th>\n",
              "      <th>max</th>\n",
              "    </tr>\n",
              "  </thead>\n",
              "  <tbody>\n",
              "    <tr>\n",
              "      <th>user_id</th>\n",
              "      <td>500.00</td>\n",
              "      <td>1249.50</td>\n",
              "      <td>144.48</td>\n",
              "      <td>1000.00</td>\n",
              "      <td>1124.75</td>\n",
              "      <td>1249.50</td>\n",
              "      <td>1374.25</td>\n",
              "      <td>1499.00</td>\n",
              "    </tr>\n",
              "    <tr>\n",
              "      <th>age</th>\n",
              "      <td>500.00</td>\n",
              "      <td>46.59</td>\n",
              "      <td>16.67</td>\n",
              "      <td>18.00</td>\n",
              "      <td>32.00</td>\n",
              "      <td>46.00</td>\n",
              "      <td>62.00</td>\n",
              "      <td>75.00</td>\n",
              "    </tr>\n",
              "  </tbody>\n",
              "</table>\n",
              "</div>"
            ],
            "text/plain": [
              "         count    mean    std     min     25%     50%     75%     max\n",
              "user_id 500.00 1249.50 144.48 1000.00 1124.75 1249.50 1374.25 1499.00\n",
              "age     500.00   46.59  16.67   18.00   32.00   46.00   62.00   75.00"
            ]
          },
          "metadata": {
            "tags": []
          }
        },
        {
          "output_type": "display_data",
          "data": {
            "text/plain": [
              "0"
            ]
          },
          "metadata": {
            "tags": []
          }
        },
        {
          "output_type": "display_data",
          "data": {
            "text/html": [
              "<div>\n",
              "<style scoped>\n",
              "    .dataframe tbody tr th:only-of-type {\n",
              "        vertical-align: middle;\n",
              "    }\n",
              "\n",
              "    .dataframe tbody tr th {\n",
              "        vertical-align: top;\n",
              "    }\n",
              "\n",
              "    .dataframe thead th {\n",
              "        text-align: right;\n",
              "    }\n",
              "</style>\n",
              "<table border=\"1\" class=\"dataframe\">\n",
              "  <thead>\n",
              "    <tr style=\"text-align: right;\">\n",
              "      <th></th>\n",
              "      <th>id</th>\n",
              "      <th>call_date</th>\n",
              "      <th>duration</th>\n",
              "      <th>user_id</th>\n",
              "    </tr>\n",
              "  </thead>\n",
              "  <tbody>\n",
              "    <tr>\n",
              "      <th>0</th>\n",
              "      <td>1000_0</td>\n",
              "      <td>2018-07-25</td>\n",
              "      <td>0.00</td>\n",
              "      <td>1000</td>\n",
              "    </tr>\n",
              "    <tr>\n",
              "      <th>1</th>\n",
              "      <td>1000_1</td>\n",
              "      <td>2018-08-17</td>\n",
              "      <td>0.00</td>\n",
              "      <td>1000</td>\n",
              "    </tr>\n",
              "    <tr>\n",
              "      <th>2</th>\n",
              "      <td>1000_2</td>\n",
              "      <td>2018-06-11</td>\n",
              "      <td>2.85</td>\n",
              "      <td>1000</td>\n",
              "    </tr>\n",
              "    <tr>\n",
              "      <th>3</th>\n",
              "      <td>1000_3</td>\n",
              "      <td>2018-09-21</td>\n",
              "      <td>13.80</td>\n",
              "      <td>1000</td>\n",
              "    </tr>\n",
              "    <tr>\n",
              "      <th>4</th>\n",
              "      <td>1000_4</td>\n",
              "      <td>2018-12-15</td>\n",
              "      <td>5.18</td>\n",
              "      <td>1000</td>\n",
              "    </tr>\n",
              "  </tbody>\n",
              "</table>\n",
              "</div>"
            ],
            "text/plain": [
              "       id   call_date  duration  user_id\n",
              "0  1000_0  2018-07-25      0.00     1000\n",
              "1  1000_1  2018-08-17      0.00     1000\n",
              "2  1000_2  2018-06-11      2.85     1000\n",
              "3  1000_3  2018-09-21     13.80     1000\n",
              "4  1000_4  2018-12-15      5.18     1000"
            ]
          },
          "metadata": {
            "tags": []
          }
        },
        {
          "output_type": "display_data",
          "data": {
            "text/html": [
              "<div>\n",
              "<style scoped>\n",
              "    .dataframe tbody tr th:only-of-type {\n",
              "        vertical-align: middle;\n",
              "    }\n",
              "\n",
              "    .dataframe tbody tr th {\n",
              "        vertical-align: top;\n",
              "    }\n",
              "\n",
              "    .dataframe thead th {\n",
              "        text-align: right;\n",
              "    }\n",
              "</style>\n",
              "<table border=\"1\" class=\"dataframe\">\n",
              "  <thead>\n",
              "    <tr style=\"text-align: right;\">\n",
              "      <th></th>\n",
              "      <th>index</th>\n",
              "      <th>dtypes</th>\n",
              "      <th>count</th>\n",
              "      <th>na_count</th>\n",
              "      <th>na_ratio</th>\n",
              "    </tr>\n",
              "  </thead>\n",
              "  <tbody>\n",
              "    <tr>\n",
              "      <th>0</th>\n",
              "      <td>id</td>\n",
              "      <td>object</td>\n",
              "      <td>202607</td>\n",
              "      <td>0</td>\n",
              "      <td>0.00</td>\n",
              "    </tr>\n",
              "    <tr>\n",
              "      <th>1</th>\n",
              "      <td>call_date</td>\n",
              "      <td>object</td>\n",
              "      <td>202607</td>\n",
              "      <td>0</td>\n",
              "      <td>0.00</td>\n",
              "    </tr>\n",
              "    <tr>\n",
              "      <th>2</th>\n",
              "      <td>duration</td>\n",
              "      <td>float64</td>\n",
              "      <td>202607</td>\n",
              "      <td>0</td>\n",
              "      <td>0.00</td>\n",
              "    </tr>\n",
              "    <tr>\n",
              "      <th>3</th>\n",
              "      <td>user_id</td>\n",
              "      <td>int64</td>\n",
              "      <td>202607</td>\n",
              "      <td>0</td>\n",
              "      <td>0.00</td>\n",
              "    </tr>\n",
              "  </tbody>\n",
              "</table>\n",
              "</div>"
            ],
            "text/plain": [
              "       index   dtypes   count  na_count  na_ratio\n",
              "0         id   object  202607         0      0.00\n",
              "1  call_date   object  202607         0      0.00\n",
              "2   duration  float64  202607         0      0.00\n",
              "3    user_id    int64  202607         0      0.00"
            ]
          },
          "metadata": {
            "tags": []
          }
        },
        {
          "output_type": "display_data",
          "data": {
            "text/html": [
              "<div>\n",
              "<style scoped>\n",
              "    .dataframe tbody tr th:only-of-type {\n",
              "        vertical-align: middle;\n",
              "    }\n",
              "\n",
              "    .dataframe tbody tr th {\n",
              "        vertical-align: top;\n",
              "    }\n",
              "\n",
              "    .dataframe thead th {\n",
              "        text-align: right;\n",
              "    }\n",
              "</style>\n",
              "<table border=\"1\" class=\"dataframe\">\n",
              "  <thead>\n",
              "    <tr style=\"text-align: right;\">\n",
              "      <th></th>\n",
              "      <th>count</th>\n",
              "      <th>mean</th>\n",
              "      <th>std</th>\n",
              "      <th>min</th>\n",
              "      <th>25%</th>\n",
              "      <th>50%</th>\n",
              "      <th>75%</th>\n",
              "      <th>max</th>\n",
              "    </tr>\n",
              "  </thead>\n",
              "  <tbody>\n",
              "    <tr>\n",
              "      <th>duration</th>\n",
              "      <td>202607.00</td>\n",
              "      <td>6.76</td>\n",
              "      <td>5.84</td>\n",
              "      <td>0.00</td>\n",
              "      <td>1.30</td>\n",
              "      <td>6.00</td>\n",
              "      <td>10.70</td>\n",
              "      <td>38.00</td>\n",
              "    </tr>\n",
              "    <tr>\n",
              "      <th>user_id</th>\n",
              "      <td>202607.00</td>\n",
              "      <td>1253.94</td>\n",
              "      <td>144.72</td>\n",
              "      <td>1000.00</td>\n",
              "      <td>1126.00</td>\n",
              "      <td>1260.00</td>\n",
              "      <td>1379.00</td>\n",
              "      <td>1499.00</td>\n",
              "    </tr>\n",
              "  </tbody>\n",
              "</table>\n",
              "</div>"
            ],
            "text/plain": [
              "             count    mean    std     min     25%     50%     75%     max\n",
              "duration 202607.00    6.76   5.84    0.00    1.30    6.00   10.70   38.00\n",
              "user_id  202607.00 1253.94 144.72 1000.00 1126.00 1260.00 1379.00 1499.00"
            ]
          },
          "metadata": {
            "tags": []
          }
        },
        {
          "output_type": "display_data",
          "data": {
            "text/plain": [
              "0"
            ]
          },
          "metadata": {
            "tags": []
          }
        },
        {
          "output_type": "display_data",
          "data": {
            "text/html": [
              "<div>\n",
              "<style scoped>\n",
              "    .dataframe tbody tr th:only-of-type {\n",
              "        vertical-align: middle;\n",
              "    }\n",
              "\n",
              "    .dataframe tbody tr th {\n",
              "        vertical-align: top;\n",
              "    }\n",
              "\n",
              "    .dataframe thead th {\n",
              "        text-align: right;\n",
              "    }\n",
              "</style>\n",
              "<table border=\"1\" class=\"dataframe\">\n",
              "  <thead>\n",
              "    <tr style=\"text-align: right;\">\n",
              "      <th></th>\n",
              "      <th>Unnamed: 0</th>\n",
              "      <th>id</th>\n",
              "      <th>mb_used</th>\n",
              "      <th>session_date</th>\n",
              "      <th>user_id</th>\n",
              "    </tr>\n",
              "  </thead>\n",
              "  <tbody>\n",
              "    <tr>\n",
              "      <th>0</th>\n",
              "      <td>0</td>\n",
              "      <td>1000_0</td>\n",
              "      <td>112.95</td>\n",
              "      <td>2018-11-25</td>\n",
              "      <td>1000</td>\n",
              "    </tr>\n",
              "    <tr>\n",
              "      <th>1</th>\n",
              "      <td>1</td>\n",
              "      <td>1000_1</td>\n",
              "      <td>1052.81</td>\n",
              "      <td>2018-09-07</td>\n",
              "      <td>1000</td>\n",
              "    </tr>\n",
              "    <tr>\n",
              "      <th>2</th>\n",
              "      <td>2</td>\n",
              "      <td>1000_2</td>\n",
              "      <td>1197.26</td>\n",
              "      <td>2018-06-25</td>\n",
              "      <td>1000</td>\n",
              "    </tr>\n",
              "    <tr>\n",
              "      <th>3</th>\n",
              "      <td>3</td>\n",
              "      <td>1000_3</td>\n",
              "      <td>550.27</td>\n",
              "      <td>2018-08-22</td>\n",
              "      <td>1000</td>\n",
              "    </tr>\n",
              "    <tr>\n",
              "      <th>4</th>\n",
              "      <td>4</td>\n",
              "      <td>1000_4</td>\n",
              "      <td>302.56</td>\n",
              "      <td>2018-09-24</td>\n",
              "      <td>1000</td>\n",
              "    </tr>\n",
              "  </tbody>\n",
              "</table>\n",
              "</div>"
            ],
            "text/plain": [
              "   Unnamed: 0      id  mb_used session_date  user_id\n",
              "0           0  1000_0   112.95   2018-11-25     1000\n",
              "1           1  1000_1  1052.81   2018-09-07     1000\n",
              "2           2  1000_2  1197.26   2018-06-25     1000\n",
              "3           3  1000_3   550.27   2018-08-22     1000\n",
              "4           4  1000_4   302.56   2018-09-24     1000"
            ]
          },
          "metadata": {
            "tags": []
          }
        },
        {
          "output_type": "display_data",
          "data": {
            "text/html": [
              "<div>\n",
              "<style scoped>\n",
              "    .dataframe tbody tr th:only-of-type {\n",
              "        vertical-align: middle;\n",
              "    }\n",
              "\n",
              "    .dataframe tbody tr th {\n",
              "        vertical-align: top;\n",
              "    }\n",
              "\n",
              "    .dataframe thead th {\n",
              "        text-align: right;\n",
              "    }\n",
              "</style>\n",
              "<table border=\"1\" class=\"dataframe\">\n",
              "  <thead>\n",
              "    <tr style=\"text-align: right;\">\n",
              "      <th></th>\n",
              "      <th>index</th>\n",
              "      <th>dtypes</th>\n",
              "      <th>count</th>\n",
              "      <th>na_count</th>\n",
              "      <th>na_ratio</th>\n",
              "    </tr>\n",
              "  </thead>\n",
              "  <tbody>\n",
              "    <tr>\n",
              "      <th>0</th>\n",
              "      <td>Unnamed: 0</td>\n",
              "      <td>int64</td>\n",
              "      <td>149396</td>\n",
              "      <td>0</td>\n",
              "      <td>0.00</td>\n",
              "    </tr>\n",
              "    <tr>\n",
              "      <th>1</th>\n",
              "      <td>id</td>\n",
              "      <td>object</td>\n",
              "      <td>149396</td>\n",
              "      <td>0</td>\n",
              "      <td>0.00</td>\n",
              "    </tr>\n",
              "    <tr>\n",
              "      <th>2</th>\n",
              "      <td>mb_used</td>\n",
              "      <td>float64</td>\n",
              "      <td>149396</td>\n",
              "      <td>0</td>\n",
              "      <td>0.00</td>\n",
              "    </tr>\n",
              "    <tr>\n",
              "      <th>3</th>\n",
              "      <td>session_date</td>\n",
              "      <td>object</td>\n",
              "      <td>149396</td>\n",
              "      <td>0</td>\n",
              "      <td>0.00</td>\n",
              "    </tr>\n",
              "    <tr>\n",
              "      <th>4</th>\n",
              "      <td>user_id</td>\n",
              "      <td>int64</td>\n",
              "      <td>149396</td>\n",
              "      <td>0</td>\n",
              "      <td>0.00</td>\n",
              "    </tr>\n",
              "  </tbody>\n",
              "</table>\n",
              "</div>"
            ],
            "text/plain": [
              "          index   dtypes   count  na_count  na_ratio\n",
              "0    Unnamed: 0    int64  149396         0      0.00\n",
              "1            id   object  149396         0      0.00\n",
              "2       mb_used  float64  149396         0      0.00\n",
              "3  session_date   object  149396         0      0.00\n",
              "4       user_id    int64  149396         0      0.00"
            ]
          },
          "metadata": {
            "tags": []
          }
        },
        {
          "output_type": "display_data",
          "data": {
            "text/html": [
              "<div>\n",
              "<style scoped>\n",
              "    .dataframe tbody tr th:only-of-type {\n",
              "        vertical-align: middle;\n",
              "    }\n",
              "\n",
              "    .dataframe tbody tr th {\n",
              "        vertical-align: top;\n",
              "    }\n",
              "\n",
              "    .dataframe thead th {\n",
              "        text-align: right;\n",
              "    }\n",
              "</style>\n",
              "<table border=\"1\" class=\"dataframe\">\n",
              "  <thead>\n",
              "    <tr style=\"text-align: right;\">\n",
              "      <th></th>\n",
              "      <th>count</th>\n",
              "      <th>mean</th>\n",
              "      <th>std</th>\n",
              "      <th>min</th>\n",
              "      <th>25%</th>\n",
              "      <th>50%</th>\n",
              "      <th>75%</th>\n",
              "      <th>max</th>\n",
              "    </tr>\n",
              "  </thead>\n",
              "  <tbody>\n",
              "    <tr>\n",
              "      <th>Unnamed: 0</th>\n",
              "      <td>149396.00</td>\n",
              "      <td>74697.50</td>\n",
              "      <td>43127.05</td>\n",
              "      <td>0.00</td>\n",
              "      <td>37348.75</td>\n",
              "      <td>74697.50</td>\n",
              "      <td>112046.25</td>\n",
              "      <td>149395.00</td>\n",
              "    </tr>\n",
              "    <tr>\n",
              "      <th>mb_used</th>\n",
              "      <td>149396.00</td>\n",
              "      <td>370.19</td>\n",
              "      <td>278.30</td>\n",
              "      <td>0.00</td>\n",
              "      <td>138.19</td>\n",
              "      <td>348.01</td>\n",
              "      <td>559.55</td>\n",
              "      <td>1724.83</td>\n",
              "    </tr>\n",
              "    <tr>\n",
              "      <th>user_id</th>\n",
              "      <td>149396.00</td>\n",
              "      <td>1252.10</td>\n",
              "      <td>144.05</td>\n",
              "      <td>1000.00</td>\n",
              "      <td>1130.00</td>\n",
              "      <td>1251.00</td>\n",
              "      <td>1380.00</td>\n",
              "      <td>1499.00</td>\n",
              "    </tr>\n",
              "  </tbody>\n",
              "</table>\n",
              "</div>"
            ],
            "text/plain": [
              "               count     mean      std  ...      50%       75%       max\n",
              "Unnamed: 0 149396.00 74697.50 43127.05  ... 74697.50 112046.25 149395.00\n",
              "mb_used    149396.00   370.19   278.30  ...   348.01    559.55   1724.83\n",
              "user_id    149396.00  1252.10   144.05  ...  1251.00   1380.00   1499.00\n",
              "\n",
              "[3 rows x 8 columns]"
            ]
          },
          "metadata": {
            "tags": []
          }
        },
        {
          "output_type": "display_data",
          "data": {
            "text/plain": [
              "0"
            ]
          },
          "metadata": {
            "tags": []
          }
        },
        {
          "output_type": "display_data",
          "data": {
            "text/html": [
              "<div>\n",
              "<style scoped>\n",
              "    .dataframe tbody tr th:only-of-type {\n",
              "        vertical-align: middle;\n",
              "    }\n",
              "\n",
              "    .dataframe tbody tr th {\n",
              "        vertical-align: top;\n",
              "    }\n",
              "\n",
              "    .dataframe thead th {\n",
              "        text-align: right;\n",
              "    }\n",
              "</style>\n",
              "<table border=\"1\" class=\"dataframe\">\n",
              "  <thead>\n",
              "    <tr style=\"text-align: right;\">\n",
              "      <th></th>\n",
              "      <th>id</th>\n",
              "      <th>message_date</th>\n",
              "      <th>user_id</th>\n",
              "    </tr>\n",
              "  </thead>\n",
              "  <tbody>\n",
              "    <tr>\n",
              "      <th>0</th>\n",
              "      <td>1000_0</td>\n",
              "      <td>2018-06-27</td>\n",
              "      <td>1000</td>\n",
              "    </tr>\n",
              "    <tr>\n",
              "      <th>1</th>\n",
              "      <td>1000_1</td>\n",
              "      <td>2018-10-08</td>\n",
              "      <td>1000</td>\n",
              "    </tr>\n",
              "    <tr>\n",
              "      <th>2</th>\n",
              "      <td>1000_2</td>\n",
              "      <td>2018-08-04</td>\n",
              "      <td>1000</td>\n",
              "    </tr>\n",
              "    <tr>\n",
              "      <th>3</th>\n",
              "      <td>1000_3</td>\n",
              "      <td>2018-06-16</td>\n",
              "      <td>1000</td>\n",
              "    </tr>\n",
              "    <tr>\n",
              "      <th>4</th>\n",
              "      <td>1000_4</td>\n",
              "      <td>2018-12-05</td>\n",
              "      <td>1000</td>\n",
              "    </tr>\n",
              "  </tbody>\n",
              "</table>\n",
              "</div>"
            ],
            "text/plain": [
              "       id message_date  user_id\n",
              "0  1000_0   2018-06-27     1000\n",
              "1  1000_1   2018-10-08     1000\n",
              "2  1000_2   2018-08-04     1000\n",
              "3  1000_3   2018-06-16     1000\n",
              "4  1000_4   2018-12-05     1000"
            ]
          },
          "metadata": {
            "tags": []
          }
        },
        {
          "output_type": "display_data",
          "data": {
            "text/html": [
              "<div>\n",
              "<style scoped>\n",
              "    .dataframe tbody tr th:only-of-type {\n",
              "        vertical-align: middle;\n",
              "    }\n",
              "\n",
              "    .dataframe tbody tr th {\n",
              "        vertical-align: top;\n",
              "    }\n",
              "\n",
              "    .dataframe thead th {\n",
              "        text-align: right;\n",
              "    }\n",
              "</style>\n",
              "<table border=\"1\" class=\"dataframe\">\n",
              "  <thead>\n",
              "    <tr style=\"text-align: right;\">\n",
              "      <th></th>\n",
              "      <th>index</th>\n",
              "      <th>dtypes</th>\n",
              "      <th>count</th>\n",
              "      <th>na_count</th>\n",
              "      <th>na_ratio</th>\n",
              "    </tr>\n",
              "  </thead>\n",
              "  <tbody>\n",
              "    <tr>\n",
              "      <th>0</th>\n",
              "      <td>id</td>\n",
              "      <td>object</td>\n",
              "      <td>123036</td>\n",
              "      <td>0</td>\n",
              "      <td>0.00</td>\n",
              "    </tr>\n",
              "    <tr>\n",
              "      <th>1</th>\n",
              "      <td>message_date</td>\n",
              "      <td>object</td>\n",
              "      <td>123036</td>\n",
              "      <td>0</td>\n",
              "      <td>0.00</td>\n",
              "    </tr>\n",
              "    <tr>\n",
              "      <th>2</th>\n",
              "      <td>user_id</td>\n",
              "      <td>int64</td>\n",
              "      <td>123036</td>\n",
              "      <td>0</td>\n",
              "      <td>0.00</td>\n",
              "    </tr>\n",
              "  </tbody>\n",
              "</table>\n",
              "</div>"
            ],
            "text/plain": [
              "          index  dtypes   count  na_count  na_ratio\n",
              "0            id  object  123036         0      0.00\n",
              "1  message_date  object  123036         0      0.00\n",
              "2       user_id   int64  123036         0      0.00"
            ]
          },
          "metadata": {
            "tags": []
          }
        },
        {
          "output_type": "display_data",
          "data": {
            "text/html": [
              "<div>\n",
              "<style scoped>\n",
              "    .dataframe tbody tr th:only-of-type {\n",
              "        vertical-align: middle;\n",
              "    }\n",
              "\n",
              "    .dataframe tbody tr th {\n",
              "        vertical-align: top;\n",
              "    }\n",
              "\n",
              "    .dataframe thead th {\n",
              "        text-align: right;\n",
              "    }\n",
              "</style>\n",
              "<table border=\"1\" class=\"dataframe\">\n",
              "  <thead>\n",
              "    <tr style=\"text-align: right;\">\n",
              "      <th></th>\n",
              "      <th>count</th>\n",
              "      <th>mean</th>\n",
              "      <th>std</th>\n",
              "      <th>min</th>\n",
              "      <th>25%</th>\n",
              "      <th>50%</th>\n",
              "      <th>75%</th>\n",
              "      <th>max</th>\n",
              "    </tr>\n",
              "  </thead>\n",
              "  <tbody>\n",
              "    <tr>\n",
              "      <th>user_id</th>\n",
              "      <td>123036.00</td>\n",
              "      <td>1256.99</td>\n",
              "      <td>143.52</td>\n",
              "      <td>1000.00</td>\n",
              "      <td>1134.00</td>\n",
              "      <td>1271.00</td>\n",
              "      <td>1381.00</td>\n",
              "      <td>1499.00</td>\n",
              "    </tr>\n",
              "  </tbody>\n",
              "</table>\n",
              "</div>"
            ],
            "text/plain": [
              "            count    mean    std     min     25%     50%     75%     max\n",
              "user_id 123036.00 1256.99 143.52 1000.00 1134.00 1271.00 1381.00 1499.00"
            ]
          },
          "metadata": {
            "tags": []
          }
        },
        {
          "output_type": "display_data",
          "data": {
            "text/plain": [
              "0"
            ]
          },
          "metadata": {
            "tags": []
          }
        },
        {
          "output_type": "display_data",
          "data": {
            "text/html": [
              "<div>\n",
              "<style scoped>\n",
              "    .dataframe tbody tr th:only-of-type {\n",
              "        vertical-align: middle;\n",
              "    }\n",
              "\n",
              "    .dataframe tbody tr th {\n",
              "        vertical-align: top;\n",
              "    }\n",
              "\n",
              "    .dataframe thead th {\n",
              "        text-align: right;\n",
              "    }\n",
              "</style>\n",
              "<table border=\"1\" class=\"dataframe\">\n",
              "  <thead>\n",
              "    <tr style=\"text-align: right;\">\n",
              "      <th></th>\n",
              "      <th>messages_included</th>\n",
              "      <th>mb_per_month_included</th>\n",
              "      <th>minutes_included</th>\n",
              "      <th>rub_monthly_fee</th>\n",
              "      <th>rub_per_gb</th>\n",
              "      <th>rub_per_message</th>\n",
              "      <th>rub_per_minute</th>\n",
              "      <th>tariff_name</th>\n",
              "    </tr>\n",
              "  </thead>\n",
              "  <tbody>\n",
              "    <tr>\n",
              "      <th>0</th>\n",
              "      <td>50</td>\n",
              "      <td>15360</td>\n",
              "      <td>500</td>\n",
              "      <td>550</td>\n",
              "      <td>200</td>\n",
              "      <td>3</td>\n",
              "      <td>3</td>\n",
              "      <td>smart</td>\n",
              "    </tr>\n",
              "    <tr>\n",
              "      <th>1</th>\n",
              "      <td>1000</td>\n",
              "      <td>30720</td>\n",
              "      <td>3000</td>\n",
              "      <td>1950</td>\n",
              "      <td>150</td>\n",
              "      <td>1</td>\n",
              "      <td>1</td>\n",
              "      <td>ultra</td>\n",
              "    </tr>\n",
              "  </tbody>\n",
              "</table>\n",
              "</div>"
            ],
            "text/plain": [
              "   messages_included  mb_per_month_included  ...  rub_per_minute  tariff_name\n",
              "0                 50                  15360  ...               3        smart\n",
              "1               1000                  30720  ...               1        ultra\n",
              "\n",
              "[2 rows x 8 columns]"
            ]
          },
          "metadata": {
            "tags": []
          }
        },
        {
          "output_type": "display_data",
          "data": {
            "text/html": [
              "<div>\n",
              "<style scoped>\n",
              "    .dataframe tbody tr th:only-of-type {\n",
              "        vertical-align: middle;\n",
              "    }\n",
              "\n",
              "    .dataframe tbody tr th {\n",
              "        vertical-align: top;\n",
              "    }\n",
              "\n",
              "    .dataframe thead th {\n",
              "        text-align: right;\n",
              "    }\n",
              "</style>\n",
              "<table border=\"1\" class=\"dataframe\">\n",
              "  <thead>\n",
              "    <tr style=\"text-align: right;\">\n",
              "      <th></th>\n",
              "      <th>index</th>\n",
              "      <th>dtypes</th>\n",
              "      <th>count</th>\n",
              "      <th>na_count</th>\n",
              "      <th>na_ratio</th>\n",
              "    </tr>\n",
              "  </thead>\n",
              "  <tbody>\n",
              "    <tr>\n",
              "      <th>0</th>\n",
              "      <td>messages_included</td>\n",
              "      <td>int64</td>\n",
              "      <td>2</td>\n",
              "      <td>0</td>\n",
              "      <td>0.00</td>\n",
              "    </tr>\n",
              "    <tr>\n",
              "      <th>1</th>\n",
              "      <td>mb_per_month_included</td>\n",
              "      <td>int64</td>\n",
              "      <td>2</td>\n",
              "      <td>0</td>\n",
              "      <td>0.00</td>\n",
              "    </tr>\n",
              "    <tr>\n",
              "      <th>2</th>\n",
              "      <td>minutes_included</td>\n",
              "      <td>int64</td>\n",
              "      <td>2</td>\n",
              "      <td>0</td>\n",
              "      <td>0.00</td>\n",
              "    </tr>\n",
              "    <tr>\n",
              "      <th>3</th>\n",
              "      <td>rub_monthly_fee</td>\n",
              "      <td>int64</td>\n",
              "      <td>2</td>\n",
              "      <td>0</td>\n",
              "      <td>0.00</td>\n",
              "    </tr>\n",
              "    <tr>\n",
              "      <th>4</th>\n",
              "      <td>rub_per_gb</td>\n",
              "      <td>int64</td>\n",
              "      <td>2</td>\n",
              "      <td>0</td>\n",
              "      <td>0.00</td>\n",
              "    </tr>\n",
              "    <tr>\n",
              "      <th>5</th>\n",
              "      <td>rub_per_message</td>\n",
              "      <td>int64</td>\n",
              "      <td>2</td>\n",
              "      <td>0</td>\n",
              "      <td>0.00</td>\n",
              "    </tr>\n",
              "    <tr>\n",
              "      <th>6</th>\n",
              "      <td>rub_per_minute</td>\n",
              "      <td>int64</td>\n",
              "      <td>2</td>\n",
              "      <td>0</td>\n",
              "      <td>0.00</td>\n",
              "    </tr>\n",
              "    <tr>\n",
              "      <th>7</th>\n",
              "      <td>tariff_name</td>\n",
              "      <td>object</td>\n",
              "      <td>2</td>\n",
              "      <td>0</td>\n",
              "      <td>0.00</td>\n",
              "    </tr>\n",
              "  </tbody>\n",
              "</table>\n",
              "</div>"
            ],
            "text/plain": [
              "                   index  dtypes  count  na_count  na_ratio\n",
              "0      messages_included   int64      2         0      0.00\n",
              "1  mb_per_month_included   int64      2         0      0.00\n",
              "2       minutes_included   int64      2         0      0.00\n",
              "3        rub_monthly_fee   int64      2         0      0.00\n",
              "4             rub_per_gb   int64      2         0      0.00\n",
              "5        rub_per_message   int64      2         0      0.00\n",
              "6         rub_per_minute   int64      2         0      0.00\n",
              "7            tariff_name  object      2         0      0.00"
            ]
          },
          "metadata": {
            "tags": []
          }
        },
        {
          "output_type": "display_data",
          "data": {
            "text/html": [
              "<div>\n",
              "<style scoped>\n",
              "    .dataframe tbody tr th:only-of-type {\n",
              "        vertical-align: middle;\n",
              "    }\n",
              "\n",
              "    .dataframe tbody tr th {\n",
              "        vertical-align: top;\n",
              "    }\n",
              "\n",
              "    .dataframe thead th {\n",
              "        text-align: right;\n",
              "    }\n",
              "</style>\n",
              "<table border=\"1\" class=\"dataframe\">\n",
              "  <thead>\n",
              "    <tr style=\"text-align: right;\">\n",
              "      <th></th>\n",
              "      <th>count</th>\n",
              "      <th>mean</th>\n",
              "      <th>std</th>\n",
              "      <th>min</th>\n",
              "      <th>25%</th>\n",
              "      <th>50%</th>\n",
              "      <th>75%</th>\n",
              "      <th>max</th>\n",
              "    </tr>\n",
              "  </thead>\n",
              "  <tbody>\n",
              "    <tr>\n",
              "      <th>messages_included</th>\n",
              "      <td>2.00</td>\n",
              "      <td>525.00</td>\n",
              "      <td>671.75</td>\n",
              "      <td>50.00</td>\n",
              "      <td>287.50</td>\n",
              "      <td>525.00</td>\n",
              "      <td>762.50</td>\n",
              "      <td>1000.00</td>\n",
              "    </tr>\n",
              "    <tr>\n",
              "      <th>mb_per_month_included</th>\n",
              "      <td>2.00</td>\n",
              "      <td>23040.00</td>\n",
              "      <td>10861.16</td>\n",
              "      <td>15360.00</td>\n",
              "      <td>19200.00</td>\n",
              "      <td>23040.00</td>\n",
              "      <td>26880.00</td>\n",
              "      <td>30720.00</td>\n",
              "    </tr>\n",
              "    <tr>\n",
              "      <th>minutes_included</th>\n",
              "      <td>2.00</td>\n",
              "      <td>1750.00</td>\n",
              "      <td>1767.77</td>\n",
              "      <td>500.00</td>\n",
              "      <td>1125.00</td>\n",
              "      <td>1750.00</td>\n",
              "      <td>2375.00</td>\n",
              "      <td>3000.00</td>\n",
              "    </tr>\n",
              "    <tr>\n",
              "      <th>rub_monthly_fee</th>\n",
              "      <td>2.00</td>\n",
              "      <td>1250.00</td>\n",
              "      <td>989.95</td>\n",
              "      <td>550.00</td>\n",
              "      <td>900.00</td>\n",
              "      <td>1250.00</td>\n",
              "      <td>1600.00</td>\n",
              "      <td>1950.00</td>\n",
              "    </tr>\n",
              "    <tr>\n",
              "      <th>rub_per_gb</th>\n",
              "      <td>2.00</td>\n",
              "      <td>175.00</td>\n",
              "      <td>35.36</td>\n",
              "      <td>150.00</td>\n",
              "      <td>162.50</td>\n",
              "      <td>175.00</td>\n",
              "      <td>187.50</td>\n",
              "      <td>200.00</td>\n",
              "    </tr>\n",
              "    <tr>\n",
              "      <th>rub_per_message</th>\n",
              "      <td>2.00</td>\n",
              "      <td>2.00</td>\n",
              "      <td>1.41</td>\n",
              "      <td>1.00</td>\n",
              "      <td>1.50</td>\n",
              "      <td>2.00</td>\n",
              "      <td>2.50</td>\n",
              "      <td>3.00</td>\n",
              "    </tr>\n",
              "    <tr>\n",
              "      <th>rub_per_minute</th>\n",
              "      <td>2.00</td>\n",
              "      <td>2.00</td>\n",
              "      <td>1.41</td>\n",
              "      <td>1.00</td>\n",
              "      <td>1.50</td>\n",
              "      <td>2.00</td>\n",
              "      <td>2.50</td>\n",
              "      <td>3.00</td>\n",
              "    </tr>\n",
              "  </tbody>\n",
              "</table>\n",
              "</div>"
            ],
            "text/plain": [
              "                       count     mean      std  ...      50%      75%      max\n",
              "messages_included       2.00   525.00   671.75  ...   525.00   762.50  1000.00\n",
              "mb_per_month_included   2.00 23040.00 10861.16  ... 23040.00 26880.00 30720.00\n",
              "minutes_included        2.00  1750.00  1767.77  ...  1750.00  2375.00  3000.00\n",
              "rub_monthly_fee         2.00  1250.00   989.95  ...  1250.00  1600.00  1950.00\n",
              "rub_per_gb              2.00   175.00    35.36  ...   175.00   187.50   200.00\n",
              "rub_per_message         2.00     2.00     1.41  ...     2.00     2.50     3.00\n",
              "rub_per_minute          2.00     2.00     1.41  ...     2.00     2.50     3.00\n",
              "\n",
              "[7 rows x 8 columns]"
            ]
          },
          "metadata": {
            "tags": []
          }
        },
        {
          "output_type": "display_data",
          "data": {
            "text/plain": [
              "0"
            ]
          },
          "metadata": {
            "tags": []
          }
        }
      ]
    },
    {
      "cell_type": "markdown",
      "metadata": {
        "id": "fbL15DXIrscT",
        "colab_type": "text"
      },
      "source": [
        "Мы имеем 5 таблиц с довольно чистыми данными. Дубликаты отсутствуют.  \n",
        "Пропуски имеются только в 'churn_date', что является легко объяснимым, их всего порядка 8%. Проигнорируем их.\n",
        "Отметим также наличие звонков с нулевой длительностью и проанализируем такие данные отдельно.\n",
        "Нулевые значения имеются и в данных об использованном объеме интернет-трафика, что вероятнее всего указывает просто на неиспользование соответствующей услуги."
      ]
    },
    {
      "cell_type": "markdown",
      "metadata": {
        "id": "A-St-gkPrscU",
        "colab_type": "text"
      },
      "source": [
        "<a id=\"3\"></a> \n",
        "## 3. Предобработка данных"
      ]
    },
    {
      "cell_type": "markdown",
      "metadata": {
        "id": "Wz2VHky1rscU",
        "colab_type": "text"
      },
      "source": [
        "##### Изменение типов данных"
      ]
    },
    {
      "cell_type": "markdown",
      "metadata": {
        "id": "1t1Zii57rscV",
        "colab_type": "text"
      },
      "source": [
        "Заменим тип данных на временной для признаков, содержащих дату (в их названиях везде содержится 'date').\n",
        "Заодно добавим отдельные столбцы с данными о месяце.\n",
        "\n",
        "Также округлим вверх значения израсходованных минут и мегабайт в соответствии с правилом оператора. Это единственные данные, имеющие тип 'float64'. Заменим этот тип на 'int'."
      ]
    },
    {
      "cell_type": "code",
      "metadata": {
        "id": "rV78bo1trscV",
        "colab_type": "code",
        "colab": {}
      },
      "source": [
        "for df in dfs:\n",
        "    for name in df.columns:\n",
        "        if 'date' in name:\n",
        "            df[name] = pd.to_datetime(df[name])\n",
        "            df['month'] = df[name].dt.month\n",
        "        if df[name].dtype == 'float64':\n",
        "            df[name] = df[name].apply(np.ceil).astype('int')"
      ],
      "execution_count": null,
      "outputs": []
    },
    {
      "cell_type": "markdown",
      "metadata": {
        "id": "bAkeQEVirsca",
        "colab_type": "text"
      },
      "source": [
        "##### Поиск и обработка ошибок в данных"
      ]
    },
    {
      "cell_type": "markdown",
      "metadata": {
        "id": "0Y6e7gNbrsca",
        "colab_type": "text"
      },
      "source": [
        "Рассмотрим, как соотносится количество нулевых и всех вместе взятых значений в данных о длительности звонков и объеме интернет-трафика, сгрупированных по различным признакам.  \n",
        "В качестве признаков возьмем пользователей, месяцы и тарифы."
      ]
    },
    {
      "cell_type": "code",
      "metadata": {
        "scrolled": true,
        "id": "w3vU_geJrsca",
        "colab_type": "code",
        "colab": {
          "base_uri": "https://localhost:8080/",
          "height": 1000
        },
        "outputId": "12f34f58-3597-4565-a1f6-3601ff2c0faf"
      },
      "source": [
        "# создадим словарь соответствия тарифов пользовательским id\n",
        "tariffs_dict = dict(zip(df_users.user_id, df_users.tariff))\n",
        "\n",
        "# построим графики и выведем значения корреляции для всех рассматриваемых комбинаций\n",
        "for df in df_calls, df_internet:\n",
        "    df['tariff'] = df.user_id.map(tariffs_dict)\n",
        "    for feature in 'user_id', 'month', 'tariff':        \n",
        "        nulls = df[(df.iloc[:, 2] == 0)].groupby(feature).id.count()\n",
        "        totals = df_calls.groupby(feature).id.count()\n",
        "        fig = go.Figure(\n",
        "            data=go.Scatter(x=nulls, \n",
        "                            y=totals, \n",
        "                            mode=('markers' if feature == 'user_id' else None)\n",
        "                            )\n",
        "            )\n",
        "        \n",
        "        fig.show(\"png\")\n",
        "        print('Null and total {p} correlation by {f}:'\\\n",
        "              .format(p=df.columns[2], f=feature), nulls.corr(totals))\n",
        "        "
      ],
      "execution_count": null,
      "outputs": [
        {
          "output_type": "display_data",
          "data": {
            "image/png": "[encoded data removed]"
          },
          "metadata": {
            "tags": []
          }
        },
        {
          "output_type": "stream",
          "text": [
            "Null and total duration correlation by user_id: 0.9894102892562341\n"
          ],
          "name": "stdout"
        },
        {
          "output_type": "display_data",
          "data": {
            "image/png": "[encoded data removed]"
          },
          "metadata": {
            "tags": []
          }
        },
        {
          "output_type": "stream",
          "text": [
            "Null and total duration correlation by month: 0.9996609521035639\n"
          ],
          "name": "stdout"
        },
        {
          "output_type": "display_data",
          "data": {
            "image/png": "[encoded data removed]"
          },
          "metadata": {
            "tags": []
          }
        },
        {
          "output_type": "stream",
          "text": [
            "Null and total duration correlation by tariff: 1.0\n"
          ],
          "name": "stdout"
        },
        {
          "output_type": "display_data",
          "data": {
            "image/png": "[encoded data removed]"
          },
          "metadata": {
            "tags": []
          }
        },
        {
          "output_type": "stream",
          "text": [
            "Null and total mb_used correlation by user_id: 0.3233094491064627\n"
          ],
          "name": "stdout"
        },
        {
          "output_type": "display_data",
          "data": {
            "image/png": "[encoded data removed]"
          },
          "metadata": {
            "tags": []
          }
        },
        {
          "output_type": "stream",
          "text": [
            "Null and total mb_used correlation by month: 0.9994169234198567\n"
          ],
          "name": "stdout"
        },
        {
          "output_type": "display_data",
          "data": {
            "image/png": "[encoded data removed]"
          },
          "metadata": {
            "tags": []
          }
        },
        {
          "output_type": "stream",
          "text": [
            "Null and total mb_used correlation by tariff: 0.9999999999999998\n"
          ],
          "name": "stdout"
        }
      ]
    },
    {
      "cell_type": "markdown",
      "metadata": {
        "id": "LcC4jObOrsce",
        "colab_type": "text"
      },
      "source": [
        "Мы видим, что доля звонков с нулевой продолжительностью очень стабильна вне зависимости от вариантов группировки и наблюдается устойчивая корреляция с общим количеством звонков. \n",
        "\n",
        "\n",
        "Легко убедиться, что выборка и по звонкам с небольшой ненулевой продолжительностью будет вести себя примерно так же, с ослаблением зависимости по мере увеличения длительности.  Это свидетельствует о наличии типичной повторяющеся ситуации, примерно равновероятной в любое время, при любом тарифе и для любого пользователя.   \n",
        "\n",
        "\n",
        "В нашем случае звонками с нулевой длительностью могут быть звонки, \"принятые\" автоответчиком. Остановимся на таком предположении и сохраним нулевые значения, но будем помнить о них при дальнейшем анализе.\n",
        "\n",
        "Что касается нулевого объема интернет-трафика, то здесь мы видим аналогичную картину, за исключением того, что этот объем распределен неравномерно между разными пользователями.\n",
        "\n",
        "Это подтверждает наше предположение о том, что такие нудевые значения свидетелствуют о неиспользование соответствующей услуги теми или иными пользователями. В данном случае нулевые значения должны быть сохранены.\n"
      ]
    },
    {
      "cell_type": "markdown",
      "metadata": {
        "id": "7z4N4TIqrscf",
        "colab_type": "text"
      },
      "source": [
        "##### Рассчитаем для каждого пользователя дополнительные показатели:\n",
        "- количество сделанных звонков и израсходованных минут разговора по месяцам;\n",
        "- количество отправленных сообщений по месяцам;\n",
        "- объем израсходованного интернет-трафика по месяцам;\n",
        "- помесячную выручку с каждого пользователя."
      ]
    },
    {
      "cell_type": "code",
      "metadata": {
        "scrolled": true,
        "id": "jKERxCI7rscg",
        "colab_type": "code",
        "colab": {}
      },
      "source": [
        "# количество сделанных звонков и израсходованных минут разговора по месяцам\n",
        "calls_grouped = df_calls.groupby(['user_id', 'month']).duration.agg(['count', 'sum'])"
      ],
      "execution_count": null,
      "outputs": []
    },
    {
      "cell_type": "code",
      "metadata": {
        "id": "TYjXLEMmrsci",
        "colab_type": "code",
        "colab": {}
      },
      "source": [
        "# количество отправленных сообщений по месяцам\n",
        "messages_grouped = df_messages.groupby(['user_id', 'month']).id.count()"
      ],
      "execution_count": null,
      "outputs": []
    },
    {
      "cell_type": "code",
      "metadata": {
        "id": "txQkKFHMrsck",
        "colab_type": "code",
        "colab": {}
      },
      "source": [
        "# объем израсходованного интернет-трафика по месяцам\n",
        "internet_grouped = df_internet.groupby(['user_id', 'month']).mb_used.sum()"
      ],
      "execution_count": null,
      "outputs": []
    },
    {
      "cell_type": "code",
      "metadata": {
        "id": "OcDjql0prscm",
        "colab_type": "code",
        "colab": {}
      },
      "source": [
        "# объединим полученные таблицы и переименуем столбцы\n",
        "dfs_grouped = calls_grouped.join([messages_grouped, internet_grouped], how='outer')\n",
        "dfs_grouped.columns = ['calls', 'duration', 'messages', 'mb_used']"
      ],
      "execution_count": null,
      "outputs": []
    },
    {
      "cell_type": "code",
      "metadata": {
        "id": "YBAuUcGhrscp",
        "colab_type": "code",
        "colab": {
          "base_uri": "https://localhost:8080/",
          "height": 102
        },
        "outputId": "2e6e01ff-ef36-4bfb-a545-43f39925cb66"
      },
      "source": [
        "# Проверим, появились ли пропуски в результате объединения таблиц\n",
        "dfs_grouped.isna().sum()"
      ],
      "execution_count": null,
      "outputs": [
        {
          "output_type": "execute_result",
          "data": {
            "text/plain": [
              "calls        40\n",
              "duration     40\n",
              "messages    497\n",
              "mb_used      11\n",
              "dtype: int64"
            ]
          },
          "metadata": {
            "tags": []
          },
          "execution_count": 11
        }
      ]
    },
    {
      "cell_type": "code",
      "metadata": {
        "scrolled": true,
        "id": "biapSFJOrscr",
        "colab_type": "code",
        "colab": {
          "base_uri": "https://localhost:8080/",
          "height": 204
        },
        "outputId": "9edd09bd-c48b-416d-88ae-1643abaa8d24"
      },
      "source": [
        "# сбросим индексацию, заменим пропуски нулевыми значениями и переведем данные в целочисленный тип\n",
        "dfs_grouped = dfs_grouped.reset_index().fillna(0).astype('int')\n",
        "\n",
        "# добавим столбец с тарифами в 'dfs_grouped'\n",
        "dfs_grouped['tariff'] = dfs_grouped.user_id.map(tariffs_dict)\n",
        "\n",
        "# проверим полученные данные\n",
        "dfs_grouped.head()"
      ],
      "execution_count": null,
      "outputs": [
        {
          "output_type": "execute_result",
          "data": {
            "text/html": [
              "<div>\n",
              "<style scoped>\n",
              "    .dataframe tbody tr th:only-of-type {\n",
              "        vertical-align: middle;\n",
              "    }\n",
              "\n",
              "    .dataframe tbody tr th {\n",
              "        vertical-align: top;\n",
              "    }\n",
              "\n",
              "    .dataframe thead th {\n",
              "        text-align: right;\n",
              "    }\n",
              "</style>\n",
              "<table border=\"1\" class=\"dataframe\">\n",
              "  <thead>\n",
              "    <tr style=\"text-align: right;\">\n",
              "      <th></th>\n",
              "      <th>user_id</th>\n",
              "      <th>month</th>\n",
              "      <th>calls</th>\n",
              "      <th>duration</th>\n",
              "      <th>messages</th>\n",
              "      <th>mb_used</th>\n",
              "      <th>tariff</th>\n",
              "    </tr>\n",
              "  </thead>\n",
              "  <tbody>\n",
              "    <tr>\n",
              "      <th>0</th>\n",
              "      <td>1000</td>\n",
              "      <td>5</td>\n",
              "      <td>22</td>\n",
              "      <td>159</td>\n",
              "      <td>22</td>\n",
              "      <td>2256</td>\n",
              "      <td>ultra</td>\n",
              "    </tr>\n",
              "    <tr>\n",
              "      <th>1</th>\n",
              "      <td>1000</td>\n",
              "      <td>6</td>\n",
              "      <td>43</td>\n",
              "      <td>172</td>\n",
              "      <td>60</td>\n",
              "      <td>23257</td>\n",
              "      <td>ultra</td>\n",
              "    </tr>\n",
              "    <tr>\n",
              "      <th>2</th>\n",
              "      <td>1000</td>\n",
              "      <td>7</td>\n",
              "      <td>47</td>\n",
              "      <td>340</td>\n",
              "      <td>75</td>\n",
              "      <td>14016</td>\n",
              "      <td>ultra</td>\n",
              "    </tr>\n",
              "    <tr>\n",
              "      <th>3</th>\n",
              "      <td>1000</td>\n",
              "      <td>8</td>\n",
              "      <td>52</td>\n",
              "      <td>408</td>\n",
              "      <td>81</td>\n",
              "      <td>14070</td>\n",
              "      <td>ultra</td>\n",
              "    </tr>\n",
              "    <tr>\n",
              "      <th>4</th>\n",
              "      <td>1000</td>\n",
              "      <td>9</td>\n",
              "      <td>58</td>\n",
              "      <td>466</td>\n",
              "      <td>57</td>\n",
              "      <td>14581</td>\n",
              "      <td>ultra</td>\n",
              "    </tr>\n",
              "  </tbody>\n",
              "</table>\n",
              "</div>"
            ],
            "text/plain": [
              "   user_id  month  calls  duration  messages  mb_used tariff\n",
              "0     1000      5     22       159        22     2256  ultra\n",
              "1     1000      6     43       172        60    23257  ultra\n",
              "2     1000      7     47       340        75    14016  ultra\n",
              "3     1000      8     52       408        81    14070  ultra\n",
              "4     1000      9     58       466        57    14581  ultra"
            ]
          },
          "metadata": {
            "tags": []
          },
          "execution_count": 12
        }
      ]
    },
    {
      "cell_type": "markdown",
      "metadata": {
        "id": "vMZRRgXfrsct",
        "colab_type": "text"
      },
      "source": [
        "Рассчитаем помесячную выручку с каждого пользователя."
      ]
    },
    {
      "cell_type": "code",
      "metadata": {
        "scrolled": true,
        "id": "zwUNgbQdrscu",
        "colab_type": "code",
        "colab": {}
      },
      "source": [
        "# для удобства расчетов введем в 'df_tariffs' индексацию по тарифам\n",
        "df_tariffs = df_tariffs.set_index(keys=df_tariffs.tariff_name)\n",
        "\n",
        "# добавим еще один толбец с переводом 'rub_per_gb' в мегабайты\n",
        "df_tariffs['rub_per_mb'] = df_tariffs.rub_per_gb / 1024"
      ],
      "execution_count": null,
      "outputs": []
    },
    {
      "cell_type": "code",
      "metadata": {
        "id": "c_yYfFDtrscw",
        "colab_type": "code",
        "colab": {}
      },
      "source": [
        "# напишем функцию для расчета выручки\n",
        "def revenue_calc(row):\n",
        "    tariff_name = row.tariff\n",
        "    \n",
        "    revenue_matrix = (np.array(row[['duration', 'messages', 'mb_used']]) - \\\n",
        "                      np.array(df_tariffs.loc[tariff_name, \n",
        "                                              ['minutes_included', \n",
        "                                               'messages_included', \n",
        "                                               'mb_per_month_included']\n",
        "                                              ])) * \\\n",
        "                      np.array(df_tariffs.loc[tariff_name, \n",
        "                                              ['rub_per_minute', \n",
        "                                               'rub_per_message', \n",
        "                                               'rub_per_mb']])\n",
        "    \n",
        "    # полученные отрицательные значения заменим нулями - для случаев, когда бесплатные опции не были израсходованы\n",
        "    revenue = sum(np.where(revenue_matrix < 0, 0, revenue_matrix)\n",
        "                 ) + np.array(df_tariffs.loc[tariff_name, 'rub_monthly_fee'])\n",
        "    \n",
        "    return revenue"
      ],
      "execution_count": null,
      "outputs": []
    },
    {
      "cell_type": "code",
      "metadata": {
        "id": "s7WO4yxzrscy",
        "colab_type": "code",
        "colab": {
          "base_uri": "https://localhost:8080/",
          "height": 514
        },
        "outputId": "66171260-c53c-4936-f5b9-83ceaba2cc6d"
      },
      "source": [
        "# применим функцию и добавим столбец с данными о выручке в 'dfs_grouped'\n",
        "dfs_grouped['revenue'] = dfs_grouped.apply(revenue_calc, axis=1)\n",
        "\n",
        "# посмотрим на полученные данные\n",
        "dfs_grouped.head(15)"
      ],
      "execution_count": null,
      "outputs": [
        {
          "output_type": "execute_result",
          "data": {
            "text/html": [
              "<div>\n",
              "<style scoped>\n",
              "    .dataframe tbody tr th:only-of-type {\n",
              "        vertical-align: middle;\n",
              "    }\n",
              "\n",
              "    .dataframe tbody tr th {\n",
              "        vertical-align: top;\n",
              "    }\n",
              "\n",
              "    .dataframe thead th {\n",
              "        text-align: right;\n",
              "    }\n",
              "</style>\n",
              "<table border=\"1\" class=\"dataframe\">\n",
              "  <thead>\n",
              "    <tr style=\"text-align: right;\">\n",
              "      <th></th>\n",
              "      <th>user_id</th>\n",
              "      <th>month</th>\n",
              "      <th>calls</th>\n",
              "      <th>duration</th>\n",
              "      <th>messages</th>\n",
              "      <th>mb_used</th>\n",
              "      <th>tariff</th>\n",
              "      <th>revenue</th>\n",
              "    </tr>\n",
              "  </thead>\n",
              "  <tbody>\n",
              "    <tr>\n",
              "      <th>0</th>\n",
              "      <td>1000</td>\n",
              "      <td>5</td>\n",
              "      <td>22</td>\n",
              "      <td>159</td>\n",
              "      <td>22</td>\n",
              "      <td>2256</td>\n",
              "      <td>ultra</td>\n",
              "      <td>1950.00</td>\n",
              "    </tr>\n",
              "    <tr>\n",
              "      <th>1</th>\n",
              "      <td>1000</td>\n",
              "      <td>6</td>\n",
              "      <td>43</td>\n",
              "      <td>172</td>\n",
              "      <td>60</td>\n",
              "      <td>23257</td>\n",
              "      <td>ultra</td>\n",
              "      <td>1950.00</td>\n",
              "    </tr>\n",
              "    <tr>\n",
              "      <th>2</th>\n",
              "      <td>1000</td>\n",
              "      <td>7</td>\n",
              "      <td>47</td>\n",
              "      <td>340</td>\n",
              "      <td>75</td>\n",
              "      <td>14016</td>\n",
              "      <td>ultra</td>\n",
              "      <td>1950.00</td>\n",
              "    </tr>\n",
              "    <tr>\n",
              "      <th>3</th>\n",
              "      <td>1000</td>\n",
              "      <td>8</td>\n",
              "      <td>52</td>\n",
              "      <td>408</td>\n",
              "      <td>81</td>\n",
              "      <td>14070</td>\n",
              "      <td>ultra</td>\n",
              "      <td>1950.00</td>\n",
              "    </tr>\n",
              "    <tr>\n",
              "      <th>4</th>\n",
              "      <td>1000</td>\n",
              "      <td>9</td>\n",
              "      <td>58</td>\n",
              "      <td>466</td>\n",
              "      <td>57</td>\n",
              "      <td>14581</td>\n",
              "      <td>ultra</td>\n",
              "      <td>1950.00</td>\n",
              "    </tr>\n",
              "    <tr>\n",
              "      <th>5</th>\n",
              "      <td>1000</td>\n",
              "      <td>10</td>\n",
              "      <td>57</td>\n",
              "      <td>350</td>\n",
              "      <td>73</td>\n",
              "      <td>14717</td>\n",
              "      <td>ultra</td>\n",
              "      <td>1950.00</td>\n",
              "    </tr>\n",
              "    <tr>\n",
              "      <th>6</th>\n",
              "      <td>1000</td>\n",
              "      <td>11</td>\n",
              "      <td>43</td>\n",
              "      <td>338</td>\n",
              "      <td>58</td>\n",
              "      <td>14768</td>\n",
              "      <td>ultra</td>\n",
              "      <td>1950.00</td>\n",
              "    </tr>\n",
              "    <tr>\n",
              "      <th>7</th>\n",
              "      <td>1000</td>\n",
              "      <td>12</td>\n",
              "      <td>46</td>\n",
              "      <td>333</td>\n",
              "      <td>70</td>\n",
              "      <td>9827</td>\n",
              "      <td>ultra</td>\n",
              "      <td>1950.00</td>\n",
              "    </tr>\n",
              "    <tr>\n",
              "      <th>8</th>\n",
              "      <td>1001</td>\n",
              "      <td>11</td>\n",
              "      <td>59</td>\n",
              "      <td>430</td>\n",
              "      <td>0</td>\n",
              "      <td>18452</td>\n",
              "      <td>smart</td>\n",
              "      <td>1153.91</td>\n",
              "    </tr>\n",
              "    <tr>\n",
              "      <th>9</th>\n",
              "      <td>1001</td>\n",
              "      <td>12</td>\n",
              "      <td>63</td>\n",
              "      <td>414</td>\n",
              "      <td>0</td>\n",
              "      <td>14053</td>\n",
              "      <td>smart</td>\n",
              "      <td>550.00</td>\n",
              "    </tr>\n",
              "    <tr>\n",
              "      <th>10</th>\n",
              "      <td>1002</td>\n",
              "      <td>6</td>\n",
              "      <td>15</td>\n",
              "      <td>117</td>\n",
              "      <td>4</td>\n",
              "      <td>10871</td>\n",
              "      <td>smart</td>\n",
              "      <td>550.00</td>\n",
              "    </tr>\n",
              "    <tr>\n",
              "      <th>11</th>\n",
              "      <td>1002</td>\n",
              "      <td>7</td>\n",
              "      <td>26</td>\n",
              "      <td>214</td>\n",
              "      <td>11</td>\n",
              "      <td>17601</td>\n",
              "      <td>smart</td>\n",
              "      <td>987.70</td>\n",
              "    </tr>\n",
              "    <tr>\n",
              "      <th>12</th>\n",
              "      <td>1002</td>\n",
              "      <td>8</td>\n",
              "      <td>42</td>\n",
              "      <td>289</td>\n",
              "      <td>13</td>\n",
              "      <td>20347</td>\n",
              "      <td>smart</td>\n",
              "      <td>1524.02</td>\n",
              "    </tr>\n",
              "    <tr>\n",
              "      <th>13</th>\n",
              "      <td>1002</td>\n",
              "      <td>9</td>\n",
              "      <td>36</td>\n",
              "      <td>206</td>\n",
              "      <td>4</td>\n",
              "      <td>16712</td>\n",
              "      <td>smart</td>\n",
              "      <td>814.06</td>\n",
              "    </tr>\n",
              "    <tr>\n",
              "      <th>14</th>\n",
              "      <td>1002</td>\n",
              "      <td>10</td>\n",
              "      <td>33</td>\n",
              "      <td>212</td>\n",
              "      <td>10</td>\n",
              "      <td>13905</td>\n",
              "      <td>smart</td>\n",
              "      <td>550.00</td>\n",
              "    </tr>\n",
              "  </tbody>\n",
              "</table>\n",
              "</div>"
            ],
            "text/plain": [
              "    user_id  month  calls  duration  messages  mb_used tariff  revenue\n",
              "0      1000      5     22       159        22     2256  ultra  1950.00\n",
              "1      1000      6     43       172        60    23257  ultra  1950.00\n",
              "2      1000      7     47       340        75    14016  ultra  1950.00\n",
              "3      1000      8     52       408        81    14070  ultra  1950.00\n",
              "4      1000      9     58       466        57    14581  ultra  1950.00\n",
              "5      1000     10     57       350        73    14717  ultra  1950.00\n",
              "6      1000     11     43       338        58    14768  ultra  1950.00\n",
              "7      1000     12     46       333        70     9827  ultra  1950.00\n",
              "8      1001     11     59       430         0    18452  smart  1153.91\n",
              "9      1001     12     63       414         0    14053  smart   550.00\n",
              "10     1002      6     15       117         4    10871  smart   550.00\n",
              "11     1002      7     26       214        11    17601  smart   987.70\n",
              "12     1002      8     42       289        13    20347  smart  1524.02\n",
              "13     1002      9     36       206         4    16712  smart   814.06\n",
              "14     1002     10     33       212        10    13905  smart   550.00"
            ]
          },
          "metadata": {
            "tags": []
          },
          "execution_count": 15
        }
      ]
    },
    {
      "cell_type": "markdown",
      "metadata": {
        "id": "P0ka9ttZrsc1",
        "colab_type": "text"
      },
      "source": [
        "<a id=\"4\"></a> \n",
        "## 4. Исследовательский анализ данных"
      ]
    },
    {
      "cell_type": "markdown",
      "metadata": {
        "id": "DhAp2stSrsc1",
        "colab_type": "text"
      },
      "source": [
        "Проанализируем количество минут разговора, количество сообщений и объём интернет-трафика, требующиеся пользователям каждого тарифа в месяц."
      ]
    },
    {
      "cell_type": "code",
      "metadata": {
        "scrolled": true,
        "id": "JpvPTTmvrsc2",
        "colab_type": "code",
        "colab": {
          "base_uri": "https://localhost:8080/",
          "height": 623
        },
        "outputId": "c0a1e3d3-dcef-4e93-c75d-4f5beb4005e1"
      },
      "source": [
        "# сгруппируем таблицу по тарифам, аггрегируем данные по среднемесячным значениям, дисперсии и стандартному отклонению\n",
        "tariffs_grouped = (dfs_grouped.groupby('tariff')['duration', 'messages', 'mb_used']\n",
        "                   .agg({'duration': [np.mean, np.var, np.std], \n",
        "                         'messages': [np.mean, np.var, np.std], \n",
        "                         'mb_used': [np.mean, np.var, np.std]}))\n",
        "# выведем таблицу\n",
        "display(tariffs_grouped)\n",
        "# построим диаграмму средних значений\n",
        "fig = go.Figure(data=[    \n",
        "    go.Bar(name=feature, \n",
        "           y=tariffs_grouped.index.get_level_values(0), \n",
        "           x=tariffs_grouped[feature, 'mean'], \n",
        "           orientation='h') for feature in ['duration', 'messages', 'mb_used']\n",
        "           ],\n",
        "        layout=go.Layout(\n",
        "        title=\"Средние значения продолжительности звонков, количества сообщений и объема трафика по тарифам\",\n",
        "        yaxis_title=\"Тарифы\"))\n",
        "fig.show(\"png\")\n"
      ],
      "execution_count": null,
      "outputs": [
        {
          "output_type": "display_data",
          "data": {
            "text/html": [
              "<div>\n",
              "<style scoped>\n",
              "    .dataframe tbody tr th:only-of-type {\n",
              "        vertical-align: middle;\n",
              "    }\n",
              "\n",
              "    .dataframe tbody tr th {\n",
              "        vertical-align: top;\n",
              "    }\n",
              "\n",
              "    .dataframe thead tr th {\n",
              "        text-align: left;\n",
              "    }\n",
              "\n",
              "    .dataframe thead tr:last-of-type th {\n",
              "        text-align: right;\n",
              "    }\n",
              "</style>\n",
              "<table border=\"1\" class=\"dataframe\">\n",
              "  <thead>\n",
              "    <tr>\n",
              "      <th></th>\n",
              "      <th colspan=\"3\" halign=\"left\">duration</th>\n",
              "      <th colspan=\"3\" halign=\"left\">messages</th>\n",
              "      <th colspan=\"3\" halign=\"left\">mb_used</th>\n",
              "    </tr>\n",
              "    <tr>\n",
              "      <th></th>\n",
              "      <th>mean</th>\n",
              "      <th>var</th>\n",
              "      <th>std</th>\n",
              "      <th>mean</th>\n",
              "      <th>var</th>\n",
              "      <th>std</th>\n",
              "      <th>mean</th>\n",
              "      <th>var</th>\n",
              "      <th>std</th>\n",
              "    </tr>\n",
              "    <tr>\n",
              "      <th>tariff</th>\n",
              "      <th></th>\n",
              "      <th></th>\n",
              "      <th></th>\n",
              "      <th></th>\n",
              "      <th></th>\n",
              "      <th></th>\n",
              "      <th></th>\n",
              "      <th></th>\n",
              "      <th></th>\n",
              "    </tr>\n",
              "  </thead>\n",
              "  <tbody>\n",
              "    <tr>\n",
              "      <th>smart</th>\n",
              "      <td>417.93</td>\n",
              "      <td>36219.32</td>\n",
              "      <td>190.31</td>\n",
              "      <td>33.38</td>\n",
              "      <td>796.81</td>\n",
              "      <td>28.23</td>\n",
              "      <td>16229.19</td>\n",
              "      <td>34545911.13</td>\n",
              "      <td>5877.58</td>\n",
              "    </tr>\n",
              "    <tr>\n",
              "      <th>ultra</th>\n",
              "      <td>526.62</td>\n",
              "      <td>100873.63</td>\n",
              "      <td>317.61</td>\n",
              "      <td>49.36</td>\n",
              "      <td>2285.27</td>\n",
              "      <td>47.80</td>\n",
              "      <td>19486.90</td>\n",
              "      <td>101935621.05</td>\n",
              "      <td>10096.32</td>\n",
              "    </tr>\n",
              "  </tbody>\n",
              "</table>\n",
              "</div>"
            ],
            "text/plain": [
              "       duration                  messages  ...        mb_used                      \n",
              "           mean       var    std     mean  ...   std     mean          var      std\n",
              "tariff                                     ...                                     \n",
              "smart    417.93  36219.32 190.31    33.38  ... 28.23 16229.19  34545911.13  5877.58\n",
              "ultra    526.62 100873.63 317.61    49.36  ... 47.80 19486.90 101935621.05 10096.32\n",
              "\n",
              "[2 rows x 9 columns]"
            ]
          },
          "metadata": {
            "tags": []
          }
        },
        {
          "output_type": "display_data",
          "data": {
            "image/png": "[encoded data removed]"
          },
          "metadata": {
            "tags": []
          }
        }
      ]
    },
    {
      "cell_type": "code",
      "metadata": {
        "id": "-mM5KK3nrsc4",
        "colab_type": "code",
        "colab": {}
      },
      "source": [
        "# сделаем группировку по пользователям\n",
        "users_grouped = dfs_grouped.groupby('user_id')[\n",
        "    'duration', 'messages', 'mb_used', 'revenue'].mean().reset_index()\n",
        "# добавим столбец с тарифом\n",
        "users_grouped['tariff'] = users_grouped.user_id.map(tariffs_dict)"
      ],
      "execution_count": null,
      "outputs": []
    },
    {
      "cell_type": "code",
      "metadata": {
        "scrolled": true,
        "id": "oY8q5J6Lrsc6",
        "colab_type": "code",
        "colab": {
          "base_uri": "https://localhost:8080/",
          "height": 1000
        },
        "outputId": "c1bc26e4-ede8-4ae1-9ed5-66eda1025117"
      },
      "source": [
        "# построим гистограммы\n",
        "for feature in ['duration', 'messages', 'mb_used']:\n",
        "    fig = px.histogram(users_grouped, x=feature, color='tariff', \n",
        "                       marginal=\"box\", opacity=0.75\n",
        "                       )\n",
        "    fig.show(\"png\")"
      ],
      "execution_count": null,
      "outputs": [
        {
          "output_type": "display_data",
          "data": {
            "image/png": "[encoded data removed]"
          },
          "metadata": {
            "tags": []
          }
        },
        {
          "output_type": "display_data",
          "data": {
            "image/png": "[encoded data removed]"
          },
          "metadata": {
            "tags": []
          }
        },
        {
          "output_type": "display_data",
          "data": {
            "image/png": "[encoded data removed]"
          },
          "metadata": {
            "tags": []
          }
        }
      ]
    },
    {
      "cell_type": "markdown",
      "metadata": {
        "id": "TC4Cr58krsc8",
        "colab_type": "text"
      },
      "source": [
        "Посмотрим еще раз на данные, сгруппированные по тарифам вместе с информацией по ним."
      ]
    },
    {
      "cell_type": "code",
      "metadata": {
        "scrolled": true,
        "id": "LifkudOyrsc8",
        "colab_type": "code",
        "colab": {
          "base_uri": "https://localhost:8080/",
          "height": 298
        },
        "outputId": "198050db-aa9c-4613-fb84-8c529d0d1b7b"
      },
      "source": [
        "display(df_tariffs, tariffs_grouped)"
      ],
      "execution_count": null,
      "outputs": [
        {
          "output_type": "display_data",
          "data": {
            "text/html": [
              "<div>\n",
              "<style scoped>\n",
              "    .dataframe tbody tr th:only-of-type {\n",
              "        vertical-align: middle;\n",
              "    }\n",
              "\n",
              "    .dataframe tbody tr th {\n",
              "        vertical-align: top;\n",
              "    }\n",
              "\n",
              "    .dataframe thead th {\n",
              "        text-align: right;\n",
              "    }\n",
              "</style>\n",
              "<table border=\"1\" class=\"dataframe\">\n",
              "  <thead>\n",
              "    <tr style=\"text-align: right;\">\n",
              "      <th></th>\n",
              "      <th>messages_included</th>\n",
              "      <th>mb_per_month_included</th>\n",
              "      <th>minutes_included</th>\n",
              "      <th>rub_monthly_fee</th>\n",
              "      <th>rub_per_gb</th>\n",
              "      <th>rub_per_message</th>\n",
              "      <th>rub_per_minute</th>\n",
              "      <th>tariff_name</th>\n",
              "      <th>rub_per_mb</th>\n",
              "    </tr>\n",
              "    <tr>\n",
              "      <th>tariff_name</th>\n",
              "      <th></th>\n",
              "      <th></th>\n",
              "      <th></th>\n",
              "      <th></th>\n",
              "      <th></th>\n",
              "      <th></th>\n",
              "      <th></th>\n",
              "      <th></th>\n",
              "      <th></th>\n",
              "    </tr>\n",
              "  </thead>\n",
              "  <tbody>\n",
              "    <tr>\n",
              "      <th>smart</th>\n",
              "      <td>50</td>\n",
              "      <td>15360</td>\n",
              "      <td>500</td>\n",
              "      <td>550</td>\n",
              "      <td>200</td>\n",
              "      <td>3</td>\n",
              "      <td>3</td>\n",
              "      <td>smart</td>\n",
              "      <td>0.20</td>\n",
              "    </tr>\n",
              "    <tr>\n",
              "      <th>ultra</th>\n",
              "      <td>1000</td>\n",
              "      <td>30720</td>\n",
              "      <td>3000</td>\n",
              "      <td>1950</td>\n",
              "      <td>150</td>\n",
              "      <td>1</td>\n",
              "      <td>1</td>\n",
              "      <td>ultra</td>\n",
              "      <td>0.15</td>\n",
              "    </tr>\n",
              "  </tbody>\n",
              "</table>\n",
              "</div>"
            ],
            "text/plain": [
              "             messages_included  mb_per_month_included  ...  tariff_name  rub_per_mb\n",
              "tariff_name                                            ...                         \n",
              "smart                       50                  15360  ...        smart        0.20\n",
              "ultra                     1000                  30720  ...        ultra        0.15\n",
              "\n",
              "[2 rows x 9 columns]"
            ]
          },
          "metadata": {
            "tags": []
          }
        },
        {
          "output_type": "display_data",
          "data": {
            "text/html": [
              "<div>\n",
              "<style scoped>\n",
              "    .dataframe tbody tr th:only-of-type {\n",
              "        vertical-align: middle;\n",
              "    }\n",
              "\n",
              "    .dataframe tbody tr th {\n",
              "        vertical-align: top;\n",
              "    }\n",
              "\n",
              "    .dataframe thead tr th {\n",
              "        text-align: left;\n",
              "    }\n",
              "\n",
              "    .dataframe thead tr:last-of-type th {\n",
              "        text-align: right;\n",
              "    }\n",
              "</style>\n",
              "<table border=\"1\" class=\"dataframe\">\n",
              "  <thead>\n",
              "    <tr>\n",
              "      <th></th>\n",
              "      <th colspan=\"3\" halign=\"left\">duration</th>\n",
              "      <th colspan=\"3\" halign=\"left\">messages</th>\n",
              "      <th colspan=\"3\" halign=\"left\">mb_used</th>\n",
              "    </tr>\n",
              "    <tr>\n",
              "      <th></th>\n",
              "      <th>mean</th>\n",
              "      <th>var</th>\n",
              "      <th>std</th>\n",
              "      <th>mean</th>\n",
              "      <th>var</th>\n",
              "      <th>std</th>\n",
              "      <th>mean</th>\n",
              "      <th>var</th>\n",
              "      <th>std</th>\n",
              "    </tr>\n",
              "    <tr>\n",
              "      <th>tariff</th>\n",
              "      <th></th>\n",
              "      <th></th>\n",
              "      <th></th>\n",
              "      <th></th>\n",
              "      <th></th>\n",
              "      <th></th>\n",
              "      <th></th>\n",
              "      <th></th>\n",
              "      <th></th>\n",
              "    </tr>\n",
              "  </thead>\n",
              "  <tbody>\n",
              "    <tr>\n",
              "      <th>smart</th>\n",
              "      <td>417.93</td>\n",
              "      <td>36219.32</td>\n",
              "      <td>190.31</td>\n",
              "      <td>33.38</td>\n",
              "      <td>796.81</td>\n",
              "      <td>28.23</td>\n",
              "      <td>16229.19</td>\n",
              "      <td>34545911.13</td>\n",
              "      <td>5877.58</td>\n",
              "    </tr>\n",
              "    <tr>\n",
              "      <th>ultra</th>\n",
              "      <td>526.62</td>\n",
              "      <td>100873.63</td>\n",
              "      <td>317.61</td>\n",
              "      <td>49.36</td>\n",
              "      <td>2285.27</td>\n",
              "      <td>47.80</td>\n",
              "      <td>19486.90</td>\n",
              "      <td>101935621.05</td>\n",
              "      <td>10096.32</td>\n",
              "    </tr>\n",
              "  </tbody>\n",
              "</table>\n",
              "</div>"
            ],
            "text/plain": [
              "       duration                  messages  ...        mb_used                      \n",
              "           mean       var    std     mean  ...   std     mean          var      std\n",
              "tariff                                     ...                                     \n",
              "smart    417.93  36219.32 190.31    33.38  ... 28.23 16229.19  34545911.13  5877.58\n",
              "ultra    526.62 100873.63 317.61    49.36  ... 47.80 19486.90 101935621.05 10096.32\n",
              "\n",
              "[2 rows x 9 columns]"
            ]
          },
          "metadata": {
            "tags": []
          }
        }
      ]
    },
    {
      "cell_type": "markdown",
      "metadata": {
        "id": "GiNnOzsDrsc-",
        "colab_type": "text"
      },
      "source": [
        "\n",
        "\n",
        "Очевидно, что данные по рассмотренным признакам в рамках тарифа 'Smart' имеют ощутимо меньший разброс, чем по тарифу 'Ultra'.\n",
        "\n",
        "\n",
        "Можно сделать вывод, что пользователи тарифа 'Ultra', имеющего и более высокую абонентскую плату, и включенные опции в большем объеме, ведут себя соответственно более разнообразно, в то время как пользователи тарифа 'Smart' тяготеют к использованию бесплатных опций в рамках своего пакета, хоть их расходы зачастую и выходят за его пределы.\n",
        "\n",
        "Заметим также, что распределение сообщений похоже на пуассоновское, а распределение времени разговора и интернет-трафика ближе к нормальному."
      ]
    },
    {
      "cell_type": "markdown",
      "metadata": {
        "id": "CkuQyB7Brsc_",
        "colab_type": "text"
      },
      "source": [
        "<a id=\"5\"></a> \n",
        "## 5. Проверка гипотез"
      ]
    },
    {
      "cell_type": "markdown",
      "metadata": {
        "id": "QrPv-zZLrsc_",
        "colab_type": "text"
      },
      "source": [
        "В качестве рабочих гипотез в нашем исследовании приняты следующие положения:  \n",
        "- средняя выручка по пользователям тарифов «Ультра» и «Смарт» различается;\n",
        "- средняя выручка по пользователям из Москвы отличается от выручки пользователей из других регионов."
      ]
    },
    {
      "cell_type": "markdown",
      "metadata": {
        "id": "JC9O6WzIrsdA",
        "colab_type": "text"
      },
      "source": [
        "Сформулируем нулевые гипотезы как утверждающие отсутствие различий в исследуемых значениях и повторим для них соответсвующие рабочие гипотезы в качетсве альтернативных:    \n",
        "[1-я группа](#h1)  \n",
        "$H^1_0 $ — средняя выручка по пользователям тарифов «Ультра» и «Смарт» одинакова.  \n",
        "$H^1_1 $ — средняя выручка по пользователям тарифов «Ультра» и «Смарт» различается.\n",
        "\n",
        "\n",
        "[2-я группа](#h2)  \n",
        "$H^2_0 $ — средняя выручка пользователей из Москвы равна выручке по пользователям из других регионов.  \n",
        "$H^2_1 $ — средняя выручка пользователей из Москвы отличается от выручки по пользователям из других регионов."
      ]
    },
    {
      "cell_type": "markdown",
      "metadata": {
        "id": "-3iDMZ14rsdA",
        "colab_type": "text"
      },
      "source": [
        "<a id=\"h1\"></a> \n",
        "\n",
        "___________\n",
        "Проверим первую гипотезу"
      ]
    },
    {
      "cell_type": "code",
      "metadata": {
        "id": "Erz3S5dtrsdA",
        "colab_type": "code",
        "colab": {}
      },
      "source": [
        "# создадим две выборки с данными о выручке по каждому тарифу\n",
        "ultra_revenue = dfs_grouped[dfs_grouped.tariff == 'ultra'].revenue\n",
        "smart_revenue = dfs_grouped[dfs_grouped.tariff == 'smart'].revenue"
      ],
      "execution_count": null,
      "outputs": []
    },
    {
      "cell_type": "code",
      "metadata": {
        "scrolled": true,
        "id": "I2b1muz3rsdC",
        "colab_type": "code",
        "colab": {
          "base_uri": "https://localhost:8080/",
          "height": 51
        },
        "outputId": "6033cc6b-5699-40d3-8c2d-b8559036438d"
      },
      "source": [
        "# сравним значения дисперсии по каждой выборке\n",
        "print('Дисперсия по \"ultra_revenue\":', np.var(ultra_revenue))\n",
        "print('Дисперсия по \"smart_revenue\":', np.var(smart_revenue))"
      ],
      "execution_count": null,
      "outputs": [
        {
          "output_type": "stream",
          "text": [
            "Дисперсия по \"ultra_revenue\": 126824.39887571977\n",
            "Дисперсия по \"smart_revenue\": 620174.2528422185\n"
          ],
          "name": "stdout"
        }
      ]
    },
    {
      "cell_type": "code",
      "metadata": {
        "id": "V8k3RdLHrsdE",
        "colab_type": "code",
        "colab": {
          "base_uri": "https://localhost:8080/",
          "height": 51
        },
        "outputId": "ed59ebc3-0cb4-4947-894c-86c507887f0e"
      },
      "source": [
        "# выполним проверку гипотезы\n",
        "alpha = .05\n",
        "results = st.ttest_ind(ultra_revenue, smart_revenue, equal_var=False) # дисперсии очень сильно отличаются -> equal_var=False\n",
        "\n",
        "print('p-значение:', results.pvalue)\n",
        "\n",
        "if (results.pvalue < alpha):\n",
        "    print(\"Отвергаем нулевую гипотезу\")\n",
        "else:\n",
        "    print(\"Не получилось отвергнуть нулевую гипотезу\")"
      ],
      "execution_count": null,
      "outputs": [
        {
          "output_type": "stream",
          "text": [
            "p-значение: 8.931402711366754e-296\n",
            "Отвергаем нулевую гипотезу\n"
          ],
          "name": "stdout"
        }
      ]
    },
    {
      "cell_type": "code",
      "metadata": {
        "scrolled": true,
        "id": "gzPvmbknrsdG",
        "colab_type": "code",
        "colab": {
          "base_uri": "https://localhost:8080/",
          "height": 467
        },
        "outputId": "2683ec8c-3ed5-483a-ef64-10998007aa53"
      },
      "source": [
        "# выведем данные о средней выручке по пользователям для каждого тарифа\n",
        "fig = px.bar(users_grouped.groupby('tariff').revenue.mean().reset_index(), \n",
        "             x='tariff', y='revenue')\n",
        "fig.show(\"png\")"
      ],
      "execution_count": null,
      "outputs": [
        {
          "output_type": "display_data",
          "data": {
            "image/png": "[encoded data removed]"
          },
          "metadata": {
            "tags": []
          }
        }
      ]
    },
    {
      "cell_type": "markdown",
      "metadata": {
        "id": "qYWH5rfhrsdM",
        "colab_type": "text"
      },
      "source": [
        "Результаты проверки выдвинутой гипотезы, как и очевидные значения средней выручки по имеющимся данным показывают, что средняя выручка по пользователям тарифов «Ультра» и «Смарт» различается практически наверняка."
      ]
    },
    {
      "cell_type": "markdown",
      "metadata": {
        "id": "Ul9omZVRrsdN",
        "colab_type": "text"
      },
      "source": [
        "<a id=\"h2\"></a> \n",
        "\n",
        "___________\n",
        "Проверим вторую гипотезу о различии выручки пользователей из Москвы от выручки пользователей из других регионов"
      ]
    },
    {
      "cell_type": "code",
      "metadata": {
        "id": "CT12sZdGrsdN",
        "colab_type": "code",
        "colab": {}
      },
      "source": [
        "# создадим словарь соответствия пользователей городам\n",
        "city_dict = dict(zip(df_users.user_id, df_users.city))\n",
        "\n",
        "# создадим столбец с указанием города в сгруппированной по повльзователям таблице\n",
        "users_grouped['city'] = users_grouped.user_id.map(city_dict) \n",
        "\n",
        "# создадим две выборки с данными о выручке - по Москве и по регионам\n",
        "moscow_revenue = users_grouped[users_grouped.city == 'Москва'].revenue\n",
        "regions_revenue = users_grouped[users_grouped.city != 'Москва'].revenue"
      ],
      "execution_count": null,
      "outputs": []
    },
    {
      "cell_type": "code",
      "metadata": {
        "id": "eNHi4clirsdP",
        "colab_type": "code",
        "colab": {
          "base_uri": "https://localhost:8080/",
          "height": 51
        },
        "outputId": "96af9861-fca2-4abc-dbf9-f425428a9b59"
      },
      "source": [
        "# сравним значения дисперсии по каждой выборке\n",
        "print('Дисперсия по \"moscow_revenue\":', np.var(moscow_revenue))\n",
        "print('Дисперсия по \"regions_revenue\":', np.var(regions_revenue))"
      ],
      "execution_count": null,
      "outputs": [
        {
          "output_type": "stream",
          "text": [
            "Дисперсия по \"moscow_revenue\": 361910.60563816165\n",
            "Дисперсия по \"regions_revenue\": 411442.9063817896\n"
          ],
          "name": "stdout"
        }
      ]
    },
    {
      "cell_type": "code",
      "metadata": {
        "id": "Sn7wCtRqrsdQ",
        "colab_type": "code",
        "colab": {
          "base_uri": "https://localhost:8080/",
          "height": 51
        },
        "outputId": "e25ccfe7-f0f5-41c5-de84-b84e195e27e4"
      },
      "source": [
        "# выполним проверку гипотезы\n",
        "alpha = .05\n",
        "results = st.ttest_ind(moscow_revenue, regions_revenue, equal_var=False)  # дисперсии отличаются -> equal_var=False\n",
        "\n",
        "print('p-значение:', results.pvalue)\n",
        "\n",
        "if (results.pvalue < alpha):\n",
        "    print(\"Отвергаем нулевую гипотезу\")\n",
        "else:\n",
        "    print(\"Не получилось отвергнуть нулевую гипотезу\")"
      ],
      "execution_count": null,
      "outputs": [
        {
          "output_type": "stream",
          "text": [
            "p-значение: 0.38492515973411034\n",
            "Не получилось отвергнуть нулевую гипотезу\n"
          ],
          "name": "stdout"
        }
      ]
    },
    {
      "cell_type": "code",
      "metadata": {
        "scrolled": true,
        "id": "bn4IkoXCrsdT",
        "colab_type": "code",
        "colab": {
          "base_uri": "https://localhost:8080/",
          "height": 467
        },
        "outputId": "c6d845e6-d092-463c-d749-422f031e7acb"
      },
      "source": [
        "# выведем данные о средней выручке по Москве и регионам\n",
        "fig = go.Figure(go.Bar(x=['Выручка в Москве', 'Выручка в регионах'], \n",
        "                 y=[moscow_revenue.mean(), regions_revenue.mean()]))\n",
        "fig.show(\"png\")"
      ],
      "execution_count": null,
      "outputs": [
        {
          "output_type": "display_data",
          "data": {
            "image/png": "[encoded data removed]"
          },
          "metadata": {
            "tags": []
          }
        }
      ]
    },
    {
      "cell_type": "markdown",
      "metadata": {
        "id": "hpATZtbwrsdV",
        "colab_type": "text"
      },
      "source": [
        "Исходя из результатов анализа мы не можем отвергать возможность равенства выручки от пользователей из Москвы и пользователей из других регионов."
      ]
    },
    {
      "cell_type": "markdown",
      "metadata": {
        "id": "LSFNqi78rsdV",
        "colab_type": "text"
      },
      "source": [
        "<a id=\"6\"></a> \n",
        "## 6. Выводы"
      ]
    },
    {
      "cell_type": "markdown",
      "metadata": {
        "id": "79n1hCsHrsdW",
        "colab_type": "text"
      },
      "source": [
        "В результате проведенного анализа мы увидели, что в наиболее общем виде поведение разных пользователей (из разных регионов, с разными тарифами и т.д.) имеет сходство в отношении порядка сделанных звонков, отправленных сообщений и израсходованного интернет-трафика.\n",
        "\n",
        "В то же время нами показаны поведенческие различия пользователей разных тарифов.  Пользователи тарифа \"Ультра\" обнаруживают больше разнообразия в своем поведении, они мало ориентируются на объем включенного пакета услуг, не всегда используют его в полном объеме (но чуть больше в среднем) и ведут себя свободно в рамках своих потребностей. \n",
        "\n",
        "Пользователи тарифа \"Смарт\", напротив, тяготеют к более оптимальному использованию включенного пакета, при этом перерасходую его  в среднем более чем в два раза.\n",
        "\n",
        "Мы проверили гипотезы о наличии разницы в выручке по пользователям различных тарифов и по Москве и регионам.\n",
        "\n",
        "\n",
        "По результатам статистического анализа можно с большой уверенностью говорить о наличии разницы в выручке по тарифам, причем для тарифа \"Ультра\" ее значение весомо больше.\n",
        "\n",
        "Что касается отличия значений выручки по региональному прнципу, то в данном случае мы не можем говорить о наличии такого отличия.\n",
        "\n",
        "Отметим, что для порогового значения $\\alpha$ мы выбрали величину 5%. При этом легко показать, что наши выводы не изменятся при ее понижении."
      ]
    }
  ]
}