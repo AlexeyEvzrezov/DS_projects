{
  "nbformat": 4,
  "nbformat_minor": 0,
  "metadata": {
    "colab": {
      "name": "data_conversion_and_matrix_operations",
      "provenance": [],
      "collapsed_sections": [],
      "toc_visible": true,
      "mount_file_id": "1v4tlBMSwWYrQ47g5vm17Gy3JUUuC0T9y",
      "authorship_tag": "ABX9TyNub8Zw4G/S6cwSVpyc/tUO",
      "include_colab_link": true
    },
    "kernelspec": {
      "name": "python3",
      "display_name": "Python 3"
    }
  },
  "cells": [
    {
      "cell_type": "markdown",
      "metadata": {
        "id": "view-in-github",
        "colab_type": "text"
      },
      "source": [
        "<a href=\"https://colab.research.google.com/github/AlexeyEvzrezov/DS_projects/blob/master/data_conversion_and_matrix_operations/data_conversion_and_matrix_operations.ipynb\" target=\"_parent\"><img src=\"https://colab.research.google.com/assets/colab-badge.svg\" alt=\"Open In Colab\"/></a>"
      ]
    },
    {
      "cell_type": "markdown",
      "metadata": {
        "id": "pQC0DnpqbEBH"
      },
      "source": [
        "# Реализация метода преобразования данных для защиты персональной информации"
      ]
    },
    {
      "cell_type": "markdown",
      "metadata": {
        "id": "5fGpjD1CbEBI"
      },
      "source": [
        "В настоящей работе реализован механизм защититы данных клиентов страховой компании. \n",
        "Данные защищены таким образом, что при преобразовании качество моделей машинного обучения не ухудшается. \n",
        "\n",
        "## Содержание\n",
        "- [Описание данных](#0)\n",
        "1. [Загрузка данных](#1)    \n",
        "2. [Умножение матриц](#2)    \n",
        "3. [Алгоритм преобразования](#3)\n",
        "3. [Проверка алгоритма](#4)\n",
        "- [Выводы](#5)"
      ]
    },
    {
      "cell_type": "markdown",
      "metadata": {
        "id": "3HCePxpoQ5TM"
      },
      "source": [
        "<a id=\"0\"></a> \n",
        "## Описание данных\n",
        "- Признаки: пол, возраст и зарплата застрахованного, количество членов его семьи.\n",
        "- Целевой признак: количество страховых выплат клиенту за последние 5 лет."
      ]
    },
    {
      "cell_type": "markdown",
      "metadata": {
        "id": "pwvWH0gCbEBJ"
      },
      "source": [
        "<a id=\"1\"></a> \n",
        "## Загрузка данных"
      ]
    },
    {
      "cell_type": "code",
      "metadata": {
        "id": "ldoUMhu0bEBK"
      },
      "source": [
        "# импорт библиотек\n",
        "import pandas as pd\n",
        "import numpy as np\n",
        "\n",
        "from sklearn.model_selection import cross_val_score\n",
        "from sklearn.linear_model import LinearRegression"
      ],
      "execution_count": null,
      "outputs": []
    },
    {
      "cell_type": "markdown",
      "metadata": {
        "id": "Bd4SLq59Oyva"
      },
      "source": [
        "Загрузим данные и посмотрим на них."
      ]
    },
    {
      "cell_type": "code",
      "metadata": {
        "id": "6FI52ZsobEBP"
      },
      "source": [
        "df = pd.read_csv('/content/drive/My Drive/Datasets/insurance.csv')                 "
      ],
      "execution_count": null,
      "outputs": []
    },
    {
      "cell_type": "code",
      "metadata": {
        "id": "WhNLbDYLR1r-",
        "outputId": "40a724f3-7e40-4573-9c6e-1bd1feac70d4",
        "colab": {
          "base_uri": "https://localhost:8080/",
          "height": 204
        }
      },
      "source": [
        "df.head()"
      ],
      "execution_count": null,
      "outputs": [
        {
          "output_type": "execute_result",
          "data": {
            "text/html": [
              "<div>\n",
              "<style scoped>\n",
              "    .dataframe tbody tr th:only-of-type {\n",
              "        vertical-align: middle;\n",
              "    }\n",
              "\n",
              "    .dataframe tbody tr th {\n",
              "        vertical-align: top;\n",
              "    }\n",
              "\n",
              "    .dataframe thead th {\n",
              "        text-align: right;\n",
              "    }\n",
              "</style>\n",
              "<table border=\"1\" class=\"dataframe\">\n",
              "  <thead>\n",
              "    <tr style=\"text-align: right;\">\n",
              "      <th></th>\n",
              "      <th>Пол</th>\n",
              "      <th>Возраст</th>\n",
              "      <th>Зарплата</th>\n",
              "      <th>Члены семьи</th>\n",
              "      <th>Страховые выплаты</th>\n",
              "    </tr>\n",
              "  </thead>\n",
              "  <tbody>\n",
              "    <tr>\n",
              "      <th>0</th>\n",
              "      <td>1</td>\n",
              "      <td>41.000</td>\n",
              "      <td>49,600.000</td>\n",
              "      <td>1</td>\n",
              "      <td>0</td>\n",
              "    </tr>\n",
              "    <tr>\n",
              "      <th>1</th>\n",
              "      <td>0</td>\n",
              "      <td>46.000</td>\n",
              "      <td>38,000.000</td>\n",
              "      <td>1</td>\n",
              "      <td>1</td>\n",
              "    </tr>\n",
              "    <tr>\n",
              "      <th>2</th>\n",
              "      <td>0</td>\n",
              "      <td>29.000</td>\n",
              "      <td>21,000.000</td>\n",
              "      <td>0</td>\n",
              "      <td>0</td>\n",
              "    </tr>\n",
              "    <tr>\n",
              "      <th>3</th>\n",
              "      <td>0</td>\n",
              "      <td>21.000</td>\n",
              "      <td>41,700.000</td>\n",
              "      <td>2</td>\n",
              "      <td>0</td>\n",
              "    </tr>\n",
              "    <tr>\n",
              "      <th>4</th>\n",
              "      <td>1</td>\n",
              "      <td>28.000</td>\n",
              "      <td>26,100.000</td>\n",
              "      <td>0</td>\n",
              "      <td>0</td>\n",
              "    </tr>\n",
              "  </tbody>\n",
              "</table>\n",
              "</div>"
            ],
            "text/plain": [
              "   Пол  Возраст   Зарплата  Члены семьи  Страховые выплаты\n",
              "0    1   41.000 49,600.000            1                  0\n",
              "1    0   46.000 38,000.000            1                  1\n",
              "2    0   29.000 21,000.000            0                  0\n",
              "3    0   21.000 41,700.000            2                  0\n",
              "4    1   28.000 26,100.000            0                  0"
            ]
          },
          "metadata": {
            "tags": []
          },
          "execution_count": 91
        }
      ]
    },
    {
      "cell_type": "code",
      "metadata": {
        "id": "5x1tiR9wR68H",
        "outputId": "23f4020b-5b5d-4a0a-bfcb-4fcfd47328b5",
        "colab": {
          "base_uri": "https://localhost:8080/",
          "height": 221
        }
      },
      "source": [
        "df.info()"
      ],
      "execution_count": null,
      "outputs": [
        {
          "output_type": "stream",
          "text": [
            "<class 'pandas.core.frame.DataFrame'>\n",
            "RangeIndex: 5000 entries, 0 to 4999\n",
            "Data columns (total 5 columns):\n",
            " #   Column             Non-Null Count  Dtype  \n",
            "---  ------             --------------  -----  \n",
            " 0   Пол                5000 non-null   int64  \n",
            " 1   Возраст            5000 non-null   float64\n",
            " 2   Зарплата           5000 non-null   float64\n",
            " 3   Члены семьи        5000 non-null   int64  \n",
            " 4   Страховые выплаты  5000 non-null   int64  \n",
            "dtypes: float64(2), int64(3)\n",
            "memory usage: 195.4 KB\n"
          ],
          "name": "stdout"
        }
      ]
    },
    {
      "cell_type": "code",
      "metadata": {
        "id": "6KYzaeHZSBhU",
        "outputId": "cb9f8fec-a218-4b19-b52e-18b44fed61bf",
        "colab": {
          "base_uri": "https://localhost:8080/",
          "height": 297
        }
      },
      "source": [
        "df.describe()"
      ],
      "execution_count": null,
      "outputs": [
        {
          "output_type": "execute_result",
          "data": {
            "text/html": [
              "<div>\n",
              "<style scoped>\n",
              "    .dataframe tbody tr th:only-of-type {\n",
              "        vertical-align: middle;\n",
              "    }\n",
              "\n",
              "    .dataframe tbody tr th {\n",
              "        vertical-align: top;\n",
              "    }\n",
              "\n",
              "    .dataframe thead th {\n",
              "        text-align: right;\n",
              "    }\n",
              "</style>\n",
              "<table border=\"1\" class=\"dataframe\">\n",
              "  <thead>\n",
              "    <tr style=\"text-align: right;\">\n",
              "      <th></th>\n",
              "      <th>Пол</th>\n",
              "      <th>Возраст</th>\n",
              "      <th>Зарплата</th>\n",
              "      <th>Члены семьи</th>\n",
              "      <th>Страховые выплаты</th>\n",
              "    </tr>\n",
              "  </thead>\n",
              "  <tbody>\n",
              "    <tr>\n",
              "      <th>count</th>\n",
              "      <td>5,000.000</td>\n",
              "      <td>5,000.000</td>\n",
              "      <td>5,000.000</td>\n",
              "      <td>5,000.000</td>\n",
              "      <td>5,000.000</td>\n",
              "    </tr>\n",
              "    <tr>\n",
              "      <th>mean</th>\n",
              "      <td>0.499</td>\n",
              "      <td>30.953</td>\n",
              "      <td>39,916.360</td>\n",
              "      <td>1.194</td>\n",
              "      <td>0.148</td>\n",
              "    </tr>\n",
              "    <tr>\n",
              "      <th>std</th>\n",
              "      <td>0.500</td>\n",
              "      <td>8.441</td>\n",
              "      <td>9,900.084</td>\n",
              "      <td>1.091</td>\n",
              "      <td>0.463</td>\n",
              "    </tr>\n",
              "    <tr>\n",
              "      <th>min</th>\n",
              "      <td>0.000</td>\n",
              "      <td>18.000</td>\n",
              "      <td>5,300.000</td>\n",
              "      <td>0.000</td>\n",
              "      <td>0.000</td>\n",
              "    </tr>\n",
              "    <tr>\n",
              "      <th>25%</th>\n",
              "      <td>0.000</td>\n",
              "      <td>24.000</td>\n",
              "      <td>33,300.000</td>\n",
              "      <td>0.000</td>\n",
              "      <td>0.000</td>\n",
              "    </tr>\n",
              "    <tr>\n",
              "      <th>50%</th>\n",
              "      <td>0.000</td>\n",
              "      <td>30.000</td>\n",
              "      <td>40,200.000</td>\n",
              "      <td>1.000</td>\n",
              "      <td>0.000</td>\n",
              "    </tr>\n",
              "    <tr>\n",
              "      <th>75%</th>\n",
              "      <td>1.000</td>\n",
              "      <td>37.000</td>\n",
              "      <td>46,600.000</td>\n",
              "      <td>2.000</td>\n",
              "      <td>0.000</td>\n",
              "    </tr>\n",
              "    <tr>\n",
              "      <th>max</th>\n",
              "      <td>1.000</td>\n",
              "      <td>65.000</td>\n",
              "      <td>79,000.000</td>\n",
              "      <td>6.000</td>\n",
              "      <td>5.000</td>\n",
              "    </tr>\n",
              "  </tbody>\n",
              "</table>\n",
              "</div>"
            ],
            "text/plain": [
              "            Пол   Возраст   Зарплата  Члены семьи  Страховые выплаты\n",
              "count 5,000.000 5,000.000  5,000.000    5,000.000          5,000.000\n",
              "mean      0.499    30.953 39,916.360        1.194              0.148\n",
              "std       0.500     8.441  9,900.084        1.091              0.463\n",
              "min       0.000    18.000  5,300.000        0.000              0.000\n",
              "25%       0.000    24.000 33,300.000        0.000              0.000\n",
              "50%       0.000    30.000 40,200.000        1.000              0.000\n",
              "75%       1.000    37.000 46,600.000        2.000              0.000\n",
              "max       1.000    65.000 79,000.000        6.000              5.000"
            ]
          },
          "metadata": {
            "tags": []
          },
          "execution_count": 93
        }
      ]
    },
    {
      "cell_type": "markdown",
      "metadata": {
        "id": "HoLle_uLlINN"
      },
      "source": [
        "Данные в порядке и пригодны для нашей работы."
      ]
    },
    {
      "cell_type": "markdown",
      "metadata": {
        "id": "DW56uNOCx8Jk"
      },
      "source": [
        "<a id=\"2\"></a> \n",
        "## 2. Умножение матриц"
      ]
    },
    {
      "cell_type": "markdown",
      "metadata": {
        "id": "Q8S0ojWZyJNw"
      },
      "source": [
        "Покажем аналитически, что качество линейной регрессии не изменится при умножении признаков на обратимую матрицу.  \n",
        "В этом случае ответы алгоритма на преобразованных таким образом данных не должны отличаться от ответов на исходных данных."
      ]
    },
    {
      "cell_type": "markdown",
      "metadata": {
        "id": "GN86IfQ0z1i_"
      },
      "source": [
        "Введем следующие обозначения:\n",
        "- $X$ — матрица признаков (нулевой столбец состоит из единиц)\n",
        "\n",
        "- $P$ — матрица, на которую умножаются признаки\n",
        "\n",
        "- $w$ — вектор весов линейной регрессии (нулевой элемент равен сдвигу)\n",
        "\n",
        "- $y$ — вектор целевого признака\n",
        "\n",
        "- $a$ — вектор предсказаний целевого признака"
      ]
    },
    {
      "cell_type": "markdown",
      "metadata": {
        "id": "cDUTknyi1Syj"
      },
      "source": [
        "Уравнение линейной регрессии с учетом введенных обозначений имеет вид:  \n",
        "\n",
        "$$\n",
        "a = Xw \\;\\;\\;\\;\\;\\;\\;\\;\\text{(1)}\n",
        "$$  \n",
        "\n",
        "При этом вектор весов $w$ определяется выражением:  \n",
        "$$\n",
        "w = (X^T X)^{-1} X^T y \\;\\;\\;\\;\\;\\;\\;\\;\\text{(2)}\n",
        "$$"
      ]
    },
    {
      "cell_type": "markdown",
      "metadata": {
        "id": "Dl_0O5E2ydWo"
      },
      "source": [
        "Выразим $w$ в (1) через (2) и подставим преобразованную матрицу $XP$ вместо $X$:  \n",
        "  \n",
        "$$\n",
        "a = XP((XP)^T XP)^{-1} (XP)^T y\n",
        "$$ \n"
      ]
    },
    {
      "cell_type": "markdown",
      "metadata": {
        "id": "G-AGE8Bp37Dp"
      },
      "source": [
        "Используя свойства транспонирования получим:  \n",
        "\n",
        "$$\n",
        "a = XP(P^T X^T XP)^{-1} P^T X^T y\n",
        "$$ \n"
      ]
    },
    {
      "cell_type": "markdown",
      "metadata": {
        "id": "li6weiEP4cfN"
      },
      "source": [
        "Используя свойства обратных матриц получим:  \n",
        "\n",
        "$$\n",
        "a = XP(X^T XP)^{-1} (P^T)^{-1}  P^T X^T y\n",
        "$$ \n",
        "\n",
        "\n",
        "$$\n",
        "a = XP P^{-1}(X^T X)^{-1} (P^T)^{-1}  P^T X^T y\n",
        "$$ "
      ]
    },
    {
      "cell_type": "markdown",
      "metadata": {
        "id": "k8AUWlk85XUq"
      },
      "source": [
        "Учитывая свойство $A^{-1}A=AA^{-1}=E$, имеем:  \n",
        "\n",
        "$$\n",
        "a = XE(X^T X)^{-1} E X^T y\n",
        "$$ \n",
        "\n",
        "$$\n",
        "a = X(X^T X)^{-1} X^T y\n",
        "$$\n",
        "\n",
        "$$\n",
        "a = Xw,\n",
        "$$ \n",
        "что и требовалось доказать.  \n",
        "\n",
        "Иными словами, мы можем представить модель в виде:\n",
        "$$\n",
        "a = XPP^{-1}w\n",
        "$$ \n",
        "Таким образом, меняются только веса, а предсказания остаются неизменными."
      ]
    },
    {
      "cell_type": "markdown",
      "metadata": {
        "id": "zVU_bSh1a7Ui"
      },
      "source": [
        "<a id=\"3\"></a> \n",
        "## 3. Алгоритм преобразования"
      ]
    },
    {
      "cell_type": "markdown",
      "metadata": {
        "id": "LB7aK7Kz64W7"
      },
      "source": [
        "\n",
        "Алгоритм преобразования будет данных выглядеть следующим образом:\n",
        "- Выделение матрицы признаков и вектора целевых переменных;  \n",
        "- Генерация случайной обратимой матрицы подходящей размерности (квадратной, с количеством столбцов (строк) равным количеству признаков);\n",
        "- Умножение матрицы признаков на сгенерированную матрицу."
      ]
    },
    {
      "cell_type": "markdown",
      "metadata": {
        "id": "LNGT_md9Qhsj"
      },
      "source": [
        "Обоснованием алгоритма являются выводы, полученные нами в предыдущем разделе."
      ]
    },
    {
      "cell_type": "markdown",
      "metadata": {
        "id": "M60o3jJuScIP"
      },
      "source": [
        "<a id=\"4\"></a> \n",
        "## 4. Проверка алгоритма"
      ]
    },
    {
      "cell_type": "markdown",
      "metadata": {
        "id": "nNlB5tMbK0TC"
      },
      "source": [
        "Инициализируем условия для генератора случайных чисел."
      ]
    },
    {
      "cell_type": "code",
      "metadata": {
        "id": "F_Mz1bNUDMkN"
      },
      "source": [
        "np.random.seed(0)"
      ],
      "execution_count": null,
      "outputs": []
    },
    {
      "cell_type": "markdown",
      "metadata": {
        "id": "hdwOKsIiLGoR"
      },
      "source": [
        "Напишем функцию для генерации случайной обратимой квадратной матрицы."
      ]
    },
    {
      "cell_type": "code",
      "metadata": {
        "id": "cDDQpmhPTFNt"
      },
      "source": [
        "def rand_inv(m):\n",
        "    \"\"\"\n",
        "    Square invertible matrix with random values.\n",
        "    Parameters\n",
        "    ----------\n",
        "    m : int\n",
        "        The dimension of the returned matrix\n",
        "    Returns\n",
        "    -------\n",
        "    out: ndarray, shape (m, m)\n",
        "    \"\"\"  \n",
        "    x = np.random.rand(m, m)\n",
        "    if np.linalg.det(x) == 0: \n",
        "        rand_inv(m)\n",
        "        \n",
        "    return np.linalg.inv(x)"
      ],
      "execution_count": null,
      "outputs": []
    },
    {
      "cell_type": "markdown",
      "metadata": {
        "id": "r9jhP5JUL2Sz"
      },
      "source": [
        "Выделим матрицу признаков и вектор целевых переменных."
      ]
    },
    {
      "cell_type": "code",
      "metadata": {
        "id": "qDkt69UT8T_r"
      },
      "source": [
        "X, y = df.iloc[:, :-1], df.iloc[:, -1]"
      ],
      "execution_count": null,
      "outputs": []
    },
    {
      "cell_type": "markdown",
      "metadata": {
        "id": "B-oFCazMMhCR"
      },
      "source": [
        "Построим модель линейной регрессии на исходных данных и оценим коэффициент детерминации на кросс-валидации."
      ]
    },
    {
      "cell_type": "code",
      "metadata": {
        "id": "UCCIOwE28OHO",
        "outputId": "8918a214-1bed-4fb9-8fc6-0d8b032180f1",
        "colab": {
          "base_uri": "https://localhost:8080/",
          "height": 34
        }
      },
      "source": [
        "lr = LinearRegression()\n",
        "r2_before = cross_val_score(lr, X, y, scoring='r2')\n",
        "r2_before"
      ],
      "execution_count": null,
      "outputs": [
        {
          "output_type": "execute_result",
          "data": {
            "text/plain": [
              "array([0.40104201, 0.44663077, 0.41583058, 0.41470783, 0.43735766])"
            ]
          },
          "metadata": {
            "tags": []
          },
          "execution_count": 97
        }
      ]
    },
    {
      "cell_type": "markdown",
      "metadata": {
        "id": "DxyphzakTQwP"
      },
      "source": [
        "Преобразуем исходные данные."
      ]
    },
    {
      "cell_type": "code",
      "metadata": {
        "id": "9EOdG4TwTgg_"
      },
      "source": [
        "X_new = X.values @ rand_inv(X.shape[1]) "
      ],
      "execution_count": null,
      "outputs": []
    },
    {
      "cell_type": "markdown",
      "metadata": {
        "id": "-L_9VKNXT2YV"
      },
      "source": [
        " На кросс-валидации оценим коэффициент детерминации на преобразованных данных."
      ]
    },
    {
      "cell_type": "code",
      "metadata": {
        "id": "m5ssvd6SUH6o",
        "outputId": "b59d8c20-7552-41fe-cc5a-e3fc617cb349",
        "colab": {
          "base_uri": "https://localhost:8080/",
          "height": 34
        }
      },
      "source": [
        "r2_after = cross_val_score(lr, X_new, y, scoring='r2')\n",
        "r2_after"
      ],
      "execution_count": null,
      "outputs": [
        {
          "output_type": "execute_result",
          "data": {
            "text/plain": [
              "array([0.40104201, 0.44663077, 0.41583058, 0.41470783, 0.43735766])"
            ]
          },
          "metadata": {
            "tags": []
          },
          "execution_count": 99
        }
      ]
    },
    {
      "cell_type": "markdown",
      "metadata": {
        "id": "jdJn7nqsZQKg"
      },
      "source": [
        "Очевидно, что полученные значения не отличаются."
      ]
    },
    {
      "cell_type": "markdown",
      "metadata": {
        "id": "VwhbspJIZRZe"
      },
      "source": [
        "Сгенерируем 100 случайных матриц преобразования и покажем, что качество не изменится."
      ]
    },
    {
      "cell_type": "code",
      "metadata": {
        "id": "hKQErP9NTQNZ",
        "outputId": "0aa67b83-a2de-434a-a01c-a131bd6bc867",
        "colab": {
          "base_uri": "https://localhost:8080/",
          "height": 34
        }
      },
      "source": [
        "for i in range(100):\n",
        "    key = rand_inv(X.shape[1])\n",
        "    X_new = X.values @ key\n",
        "    r2_after = cross_val_score(lr, X_new, y, scoring='r2')\n",
        "    if str(r2_after) != str(r2_before):   # переводим в строки, чтобы исключить ошибки, связанные со спецификой представления float\n",
        "        print('Качество модели после преобразования отличается')\n",
        "    elif i == 99:\n",
        "        print('Качество модели после преобразования не отличается') "
      ],
      "execution_count": null,
      "outputs": [
        {
          "output_type": "stream",
          "text": [
            "Качество модели после преобразования не отличается\n"
          ],
          "name": "stdout"
        }
      ]
    },
    {
      "cell_type": "markdown",
      "metadata": {
        "id": "Ao0p0h_ajgx_"
      },
      "source": [
        "Теперь выполним обратное преобразование.  \n",
        "Умножим преобразованную матрицу признаков на инвертированную матрицу преобразования, которая и является ключом.  \n",
        "Сравним полученные значения, округлив их до трех знаков после запятой."
      ]
    },
    {
      "cell_type": "code",
      "metadata": {
        "id": "5RD1QK7Fg7VB",
        "outputId": "a02ac073-44eb-4264-af81-3f9f728ee20d",
        "colab": {
          "base_uri": "https://localhost:8080/",
          "height": 34
        }
      },
      "source": [
        "(np.around(X_new @ np.linalg.inv(key), 3) != np.around(X, 3)).sum().sum()"
      ],
      "execution_count": null,
      "outputs": [
        {
          "output_type": "execute_result",
          "data": {
            "text/plain": [
              "0"
            ]
          },
          "metadata": {
            "tags": []
          },
          "execution_count": 101
        }
      ]
    },
    {
      "cell_type": "markdown",
      "metadata": {
        "id": "3mhXVsTXkUXU"
      },
      "source": [
        "Таким образом мы видим, что все значения совпали."
      ]
    },
    {
      "cell_type": "markdown",
      "metadata": {
        "id": "XZtg0PCibECb"
      },
      "source": [
        "<a id=\"5\"></a> \n",
        "## Выводы"
      ]
    },
    {
      "cell_type": "markdown",
      "metadata": {
        "id": "oGqyXSd5bECc"
      },
      "source": [
        "В рамках данной работы мы показали, что качество линейной регрессии не изменится при умножении признаков на обратимую матрицу.  \n",
        "\n",
        "С учетом этого вывода мы предложили и реализовали простой алгоритм преобразования данных, который заключается в умножении исходной матрицы признаков на квадратную обратимую матрицу подходящей размерности (с количеством столбцов (строк) равным количеству признаков).\n",
        "\n",
        "Мы проверили работу алгоритма и подтвердили корректность результатов, построив модели линейной регрессии на исходных и преобразованных данных и оценив коэффициент детерминации на кросс-валидации, а также успешно реализовав обратное преобразование."
      ]
    }
  ]
}